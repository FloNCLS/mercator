{
 "cells": [
  {
   "cell_type": "code",
   "id": "initial_id",
   "metadata": {
    "collapsed": true,
    "ExecuteTime": {
     "end_time": "2024-05-20T13:46:43.169097Z",
     "start_time": "2024-05-20T13:46:42.712876Z"
    }
   },
   "source": [
    "import requests\n",
    "import json\n",
    "import pandas as pd\n",
    "import plotly.express as px\n",
    "\n",
    "\n",
    "v_headers = {'accept': 'application/json', 'content-type': 'application/x-www-form-urlencoded',\n",
    "            'cache-control': 'no-cache'}\n",
    "\n",
    "response = requests.post(\"http://127.0.0.1:8000/api/login\",\n",
    "                         headers=v_headers,\n",
    "                         data= {'email':'admin@admin.com', 'password':'password'})\n",
    "token = response.json()['access_token']\n",
    "v_headers['Authorization'] = \"Bearer \" + token"
   ],
   "outputs": [],
   "execution_count": 12
  },
  {
   "metadata": {
    "ExecuteTime": {
     "end_time": "2024-05-20T13:46:44.518279Z",
     "start_time": "2024-05-20T13:46:44.233297Z"
    }
   },
   "cell_type": "code",
   "source": [
    "activities = requests.get(\"http://127.0.0.1:8000/api/activities\", headers=v_headers).json()\n",
    "\n"
   ],
   "id": "1bc5c0d641605337",
   "outputs": [],
   "execution_count": 13
  },
  {
   "metadata": {
    "ExecuteTime": {
     "end_time": "2024-05-20T13:46:45.433652Z",
     "start_time": "2024-05-20T13:46:45.426118Z"
    }
   },
   "cell_type": "code",
   "source": "activities",
   "id": "ebe89b32eab3318c",
   "outputs": [
    {
     "data": {
      "text/plain": [
       "[]"
      ]
     },
     "execution_count": 14,
     "metadata": {},
     "output_type": "execute_result"
    }
   ],
   "execution_count": 14
  },
  {
   "metadata": {},
   "cell_type": "code",
   "outputs": [],
   "execution_count": null,
   "source": [
    "touch ./db.sqlite && chmod a+w ./db.sqlite\n",
    "docker run -it --rm \\\n",
    "           --name mercator \\\n",
    "           -e APP_ENV=development \\\n",
    "           -p \"127.0.0.1:8000\":80 \\\n",
    "           -v $PWD/db.sqlite:/var/www/mercator/sql/db.sqlite \\\n",
    "           -e USE_DEMO_DATA=1 \\\n",
    "           mercator"
   ],
   "id": "21d61c47971ee5ee"
  }
 ],
 "metadata": {
  "kernelspec": {
   "display_name": "Python 3",
   "language": "python",
   "name": "python3"
  },
  "language_info": {
   "codemirror_mode": {
    "name": "ipython",
    "version": 2
   },
   "file_extension": ".py",
   "mimetype": "text/x-python",
   "name": "python",
   "nbconvert_exporter": "python",
   "pygments_lexer": "ipython2",
   "version": "2.7.6"
  }
 },
 "nbformat": 4,
 "nbformat_minor": 5
}
