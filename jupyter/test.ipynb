{
 "cells": [
  {
   "cell_type": "code",
   "id": "initial_id",
   "metadata": {
    "collapsed": true,
    "ExecuteTime": {
     "end_time": "2024-05-24T16:18:43.701098Z",
     "start_time": "2024-05-24T16:18:41.461808Z"
    }
   },
   "source": [
    "import requests\n",
    "import json\n",
    "import pandas as pd\n",
    "import plotly.express as px\n",
    "\n",
    "\n",
    "v_headers = {'accept': 'application/json', 'content-type': 'application/x-www-form-urlencoded',\n",
    "            'cache-control': 'no-cache'}\n",
    "\n",
    "response = requests.post(\"http://127.0.0.1:8000/api/login\",\n",
    "                         headers=v_headers,\n",
    "                         data= {'email':'admin@admin.com', 'password':'password'})\n",
    "token = response.json()['access_token']\n",
    "v_headers['Authorization'] = \"Bearer \" + token"
   ],
   "outputs": [],
   "execution_count": 1
  },
  {
   "metadata": {
    "ExecuteTime": {
     "end_time": "2024-05-24T16:19:13.462453Z",
     "start_time": "2024-05-24T16:19:13.044997Z"
    }
   },
   "cell_type": "code",
   "source": [
    "activities = requests.get(\"http://127.0.0.1:8000/api/activities\", headers=v_headers).json()\n",
    "entities = requests.get(\"http://127.0.0.1:8000/api/entities\", headers=v_headers).json()\n",
    "\n"
   ],
   "id": "1bc5c0d641605337",
   "outputs": [],
   "execution_count": 3
  },
  {
   "metadata": {
    "ExecuteTime": {
     "end_time": "2024-05-24T16:19:18.266181Z",
     "start_time": "2024-05-24T16:19:18.256460Z"
    }
   },
   "cell_type": "code",
   "source": "activities",
   "id": "ebe89b32eab3318c",
   "outputs": [
    {
     "data": {
      "text/plain": [
       "[{'id': 1,\n",
       "  'name': 'Activité 1',\n",
       "  'description': \"<p>Description de l'activité 1</p>\",\n",
       "  'created_at': '2020-06-10 15:20:42',\n",
       "  'updated_at': '2020-06-10 15:20:42',\n",
       "  'deleted_at': None,\n",
       "  'maturity': None},\n",
       " {'id': 2,\n",
       "  'name': 'Activité 2',\n",
       "  'description': \"<p>Description de l'activité de test</p>\",\n",
       "  'created_at': '2020-06-10 17:44:26',\n",
       "  'updated_at': '2020-06-13 06:03:26',\n",
       "  'deleted_at': None,\n",
       "  'maturity': None},\n",
       " {'id': 3,\n",
       "  'name': 'Activité 3',\n",
       "  'description': \"<p>Description de l'activité 3</p>\",\n",
       "  'created_at': '2020-06-13 06:57:08',\n",
       "  'updated_at': '2020-06-13 06:57:08',\n",
       "  'deleted_at': None,\n",
       "  'maturity': None},\n",
       " {'id': 4,\n",
       "  'name': 'Activité 4',\n",
       "  'description': \"<p>Description de l'acivité 4</p>\",\n",
       "  'created_at': '2020-06-13 06:57:24',\n",
       "  'updated_at': '2020-06-13 06:57:24',\n",
       "  'deleted_at': None,\n",
       "  'maturity': None},\n",
       " {'id': 5,\n",
       "  'name': 'Activité principale',\n",
       "  'description': \"<p>Description de l'activité principale</p>\",\n",
       "  'created_at': '2020-08-15 06:19:53',\n",
       "  'updated_at': '2020-08-15 06:19:53',\n",
       "  'deleted_at': None,\n",
       "  'maturity': None},\n",
       " {'id': 10,\n",
       "  'name': 'Activité 0',\n",
       "  'description': \"<p>Description de l'activité zéro</p>\",\n",
       "  'created_at': None,\n",
       "  'updated_at': '2021-05-15 09:40:16',\n",
       "  'deleted_at': None,\n",
       "  'maturity': None}]"
      ]
     },
     "execution_count": 4,
     "metadata": {},
     "output_type": "execute_result"
    }
   ],
   "execution_count": 4
  },
  {
   "metadata": {
    "ExecuteTime": {
     "end_time": "2024-05-24T16:19:30.013113Z",
     "start_time": "2024-05-24T16:19:30.006666Z"
    }
   },
   "cell_type": "code",
   "source": "entities",
   "id": "21d61c47971ee5ee",
   "outputs": [
    {
     "data": {
      "text/plain": [
       "[{'id': 1,\n",
       "  'name': 'MegaNet System',\n",
       "  'security_level': '<p>ISO 27001</p>',\n",
       "  'contact_point': '<p>Helpdek<br>27, Rue des poire&nbsp;<br>12043 Mire-en-Mare le Bains</p><p>helpdes@menetsys.org</p>',\n",
       "  'description': '<p>Fournisseur équipement réseau</p>',\n",
       "  'created_at': '2020-05-21 04:30:59',\n",
       "  'updated_at': '2022-05-20 17:30:00',\n",
       "  'deleted_at': None,\n",
       "  'is_external': 1,\n",
       "  'entity_type': None},\n",
       " {'id': 2,\n",
       "  'name': 'Entité1',\n",
       "  'security_level': '<p>Néant</p>',\n",
       "  'contact_point': '<ul><li>Commercial</li><li>Service Delivery</li><li>Helpdesk</li></ul>',\n",
       "  'description': '<p>Entité de tests1</p>',\n",
       "  'created_at': '2020-05-21 04:31:17',\n",
       "  'updated_at': '2021-05-23 14:59:11',\n",
       "  'deleted_at': None,\n",
       "  'is_external': 0,\n",
       "  'entity_type': None},\n",
       " {'id': 4,\n",
       "  'name': 'Entité3',\n",
       "  'security_level': '<p>ISO 9001</p>',\n",
       "  'contact_point': '<p>Point de contact de la troisième entité</p>',\n",
       "  'description': '<p>Description de la troisième entité.</p>',\n",
       "  'created_at': '2020-05-21 04:44:03',\n",
       "  'updated_at': '2021-07-20 21:20:37',\n",
       "  'deleted_at': None,\n",
       "  'is_external': 0,\n",
       "  'entity_type': None},\n",
       " {'id': 5,\n",
       "  'name': 'entité6',\n",
       "  'security_level': '<p>Néant</p>',\n",
       "  'contact_point': '<p>support_informatque@entite6.fr</p>',\n",
       "  'description': \"<p>Description de l'entité six</p>\",\n",
       "  'created_at': '2020-05-21 04:44:18',\n",
       "  'updated_at': '2021-05-23 15:03:15',\n",
       "  'deleted_at': None,\n",
       "  'is_external': 0,\n",
       "  'entity_type': None},\n",
       " {'id': 6,\n",
       "  'name': 'Entité4',\n",
       "  'security_level': '<p>ISO 27001</p>',\n",
       "  'contact_point': '<p>Pierre Pinon<br>Tel: 00 34 392 484 22</p>',\n",
       "  'description': \"<p>Description de l'entté quatre</p>\",\n",
       "  'created_at': '2020-05-21 04:45:14',\n",
       "  'updated_at': '2021-05-23 15:01:17',\n",
       "  'deleted_at': None,\n",
       "  'is_external': 0,\n",
       "  'entity_type': None},\n",
       " {'id': 7,\n",
       "  'name': 'Entité5',\n",
       "  'security_level': '<p>Néant</p>',\n",
       "  'contact_point': '<p>Servicdesk@entite5.fr</p>',\n",
       "  'description': \"<p>Description de l'entité 5</p>\",\n",
       "  'created_at': '2020-05-21 05:38:41',\n",
       "  'updated_at': '2021-05-23 15:02:16',\n",
       "  'deleted_at': None,\n",
       "  'is_external': 0,\n",
       "  'entity_type': None},\n",
       " {'id': 8,\n",
       "  'name': 'Entité2',\n",
       "  'security_level': '<p>ISO 27001</p>',\n",
       "  'contact_point': \"<p>Point de contact de l'entité 2</p>\",\n",
       "  'description': \"<p>Description de l'entité 2</p>\",\n",
       "  'created_at': '2020-05-21 05:54:22',\n",
       "  'updated_at': '2021-05-23 15:00:03',\n",
       "  'deleted_at': None,\n",
       "  'is_external': 0,\n",
       "  'entity_type': None},\n",
       " {'id': 9,\n",
       "  'name': 'NetworkSys',\n",
       "  'security_level': '<p>ISO 27001</p>',\n",
       "  'contact_point': '<p>support@networksys.fr</p>',\n",
       "  'description': '<p>Description de l’entité NetworkSys</p>',\n",
       "  'created_at': '2020-05-21 08:25:15',\n",
       "  'updated_at': '2022-05-20 17:30:00',\n",
       "  'deleted_at': None,\n",
       "  'is_external': 1,\n",
       "  'entity_type': None},\n",
       " {'id': 12,\n",
       "  'name': 'Pierre et fils',\n",
       "  'security_level': '<p>Certifications :&nbsp;<br>- ISO 9001<br>- ISO 27001<br>- ISO 31000</p>',\n",
       "  'contact_point': '<p>Paul Pierre<br>Gérant<br>00 33 4943 432 423</p>',\n",
       "  'description': \"<p>Description de l'entité de test</p>\",\n",
       "  'created_at': '2020-07-06 15:37:54',\n",
       "  'updated_at': '2022-05-20 17:30:00',\n",
       "  'deleted_at': None,\n",
       "  'is_external': 1,\n",
       "  'entity_type': None},\n",
       " {'id': 13,\n",
       "  'name': 'Nestor',\n",
       "  'security_level': '<p>Haut niveau</p>',\n",
       "  'contact_point': '<p>Paul, Pierre et Jean</p>',\n",
       "  'description': '<p>Description de Nestor</p>',\n",
       "  'created_at': '2020-08-12 18:11:31',\n",
       "  'updated_at': '2020-08-12 18:12:13',\n",
       "  'deleted_at': None,\n",
       "  'is_external': 0,\n",
       "  'entity_type': None},\n",
       " {'id': 18,\n",
       "  'name': 'Acme corp.',\n",
       "  'security_level': '<p>None sorry...</p>',\n",
       "  'contact_point': '<p>Do not call me, I will call you back.</p>',\n",
       "  'description': '<p>Looney tunes academy</p>',\n",
       "  'created_at': '2021-09-07 20:07:16',\n",
       "  'updated_at': '2022-05-20 17:30:00',\n",
       "  'deleted_at': None,\n",
       "  'is_external': 1,\n",
       "  'entity_type': None},\n",
       " {'id': 19,\n",
       "  'name': 'HAL',\n",
       "  'security_level': '<p>Top security certification</p>',\n",
       "  'contact_point': '<p>hal@corp.com</p>',\n",
       "  'description': '<p>Very big HAL corporation</p>',\n",
       "  'created_at': '2021-09-07 20:08:56',\n",
       "  'updated_at': '2021-09-07 20:09:17',\n",
       "  'deleted_at': None,\n",
       "  'is_external': 0,\n",
       "  'entity_type': None}]"
      ]
     },
     "execution_count": 5,
     "metadata": {},
     "output_type": "execute_result"
    }
   ],
   "execution_count": 5
  },
  {
   "metadata": {},
   "cell_type": "code",
   "outputs": [],
   "execution_count": null,
   "source": "",
   "id": "2e91b491ca91864b"
  }
 ],
 "metadata": {
  "kernelspec": {
   "display_name": "Python 3",
   "language": "python",
   "name": "python3"
  },
  "language_info": {
   "codemirror_mode": {
    "name": "ipython",
    "version": 2
   },
   "file_extension": ".py",
   "mimetype": "text/x-python",
   "name": "python",
   "nbconvert_exporter": "python",
   "pygments_lexer": "ipython2",
   "version": "2.7.6"
  }
 },
 "nbformat": 4,
 "nbformat_minor": 5
}
