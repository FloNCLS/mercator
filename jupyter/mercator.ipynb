{
 "cells": [
  {
   "metadata": {
    "ExecuteTime": {
     "end_time": "2024-07-01T08:59:20.703534Z",
     "start_time": "2024-07-01T08:59:20.700671Z"
    }
   },
   "cell_type": "code",
   "source": [
    "import requests\n",
    "import json\n",
    "from json import JSONDecodeError"
   ],
   "id": "b2a32fa44e823498",
   "outputs": [],
   "execution_count": 30
  },
  {
   "metadata": {
    "ExecuteTime": {
     "end_time": "2024-07-01T08:59:21.512116Z",
     "start_time": "2024-07-01T08:59:21.207219Z"
    }
   },
   "cell_type": "code",
   "source": [
    "v_headers = {'accept': 'application/json', 'content-type': 'application/x-www-form-urlencoded',\n",
    "            'cache-control': 'no-cache'}\n",
    "\n",
    "response = requests.post(\"http://127.0.0.1:8000/api/login\",\n",
    "                         headers=v_headers,\n",
    "                         data= {'email':'admin@admin.com', 'password':'password'})\n",
    "token = response.json()['access_token']\n",
    "v_headers['Authorization'] = \"Bearer \" + token\n"
   ],
   "id": "4386615ba7c0efa0",
   "outputs": [],
   "execution_count": 31
  },
  {
   "metadata": {
    "ExecuteTime": {
     "end_time": "2024-07-01T08:59:28.425314Z",
     "start_time": "2024-07-01T08:59:21.761963Z"
    }
   },
   "cell_type": "code",
   "source": [
    "# Element ecosystemes\n",
    "entities = requests.get(\"http://127.0.0.1:8000/api/entities\", headers=v_headers).json()\n",
    "relations = requests.get(\"http://127.0.0.1:8000/api/relations\", headers=v_headers).json()\n",
    "\n",
    "# information system\n",
    "processes = requests.get(\"http://127.0.0.1:8000/api/processes\", headers=v_headers).json()\n",
    "operations = requests.get(\"http://127.0.0.1:8000/api/operations\", headers=v_headers).json()\n",
    "actors = requests.get(\"http://127.0.0.1:8000/api/actors\", headers=v_headers).json()\n",
    "activities = requests.get(\"http://127.0.0.1:8000/api/activities\", headers=v_headers).json()\n",
    "tasks = requests.get(\"http://127.0.0.1:8000/api/tasks\", headers=v_headers).json()\n",
    "information = requests.get(\"http://127.0.0.1:8000/api/information\", headers=v_headers).json()\n",
    "\n",
    "#application \n",
    "application_blocks = requests.get(\"http://127.0.0.1:8000/api/application-blocks\", headers=v_headers).json()\n",
    "applications = requests.get(\"http://127.0.0.1:8000/api/applications\", headers=v_headers).json()\n",
    "application_modules = requests.get(\"http://127.0.0.1:8000/api/application-modules\", headers=v_headers).json()\n",
    "databases = requests.get(\"http://127.0.0.1:8000/api/databases\", headers=v_headers).json()\n",
    "fluxes = requests.get(\"http://127.0.0.1:8000/api/fluxes\", headers=v_headers).json()\n",
    "\n",
    "# Logical infrastructure view\n",
    "networks = requests.get(\"http://127.0.0.1:8000/api/networks\", headers=v_headers).json()\n",
    "subnetworks = requests.get(\"http://127.0.0.1:8000/api/subnetworks\", headers=v_headers).json()\n",
    "gateways = requests.get(\"http://127.0.0.1:8000/api/gateways\", headers=v_headers).json()\n",
    "external_connected_entities = requests.get(\"http://127.0.0.1:8000/api/external-connected-entities\", headers=v_headers).json()\n",
    "routers = requests.get(\"http://127.0.0.1:8000/api/routers\", headers=v_headers).json()\n",
    "dhcp_servers = requests.get(\"http://127.0.0.1:8000/api/dhcp-servers\", headers=v_headers).json()\n",
    "dnsservers = requests.get(\"http://127.0.0.1:8000/api/dnsservers\", headers=v_headers).json()\n",
    "logical_servers = requests.get(\"http://127.0.0.1:8000/api/logical-servers\", headers=v_headers).json()\n",
    "certificates = requests.get(\"http://127.0.0.1:8000/api/certificates\", headers=v_headers).json()\n",
    "\n",
    "# Physical infrastructure view\n",
    "sites = requests.get(\"http://127.0.0.1:8000/api/sites\", headers=v_headers).json()\n",
    "buildings = requests.get(\"http://127.0.0.1:8000/api/buildings\", headers=v_headers).json()\n",
    "bays = requests.get(\"http://127.0.0.1:8000/api/bays\", headers=v_headers).json()\n",
    "physical_servers = requests.get(\"http://127.0.0.1:8000/api/physical-servers\", headers=v_headers).json()\n",
    "workstations = requests.get(\"http://127.0.0.1:8000/api/workstations\", headers=v_headers).json()\n",
    "storage_devices = requests.get(\"http://127.0.0.1:8000/api/storage-devices\", headers=v_headers).json()\n",
    "peripherals = requests.get(\"http://127.0.0.1:8000/api/peripherals\", headers=v_headers).json()\n",
    "phones = requests.get(\"http://127.0.0.1:8000/api/phones\", headers=v_headers).json()\n",
    "physical_switches = requests.get(\"http://127.0.0.1:8000/api/physical-switches\", headers=v_headers).json()\n",
    "physical_routers = requests.get(\"http://127.0.0.1:8000/api/physical-routers\", headers=v_headers).json()\n",
    "physical_security_devices = requests.get(\"http://127.0.0.1:8000/api/physical-security-devices\", headers=v_headers).json()\n",
    "wans = requests.get(\"http://127.0.0.1:8000/api/wans\", headers=v_headers).json()\n",
    "mans = requests.get(\"http://127.0.0.1:8000/api/mans\", headers=v_headers).json()\n",
    "lans = requests.get(\"http://127.0.0.1:8000/api/lans\", headers=v_headers).json()\n",
    "vlans = requests.get(\"http://127.0.0.1:8000/api/vlans\", headers=v_headers).json()"
   ],
   "id": "fb239cad8a7fb8cd",
   "outputs": [],
   "execution_count": 32
  },
  {
   "metadata": {
    "ExecuteTime": {
     "end_time": "2024-07-01T08:59:31.516560Z",
     "start_time": "2024-07-01T08:59:31.508070Z"
    }
   },
   "cell_type": "code",
   "source": [
    "all_variables = [\n",
    "    entities,\n",
    "    relations,\n",
    "    processes,\n",
    "    operations,\n",
    "    actors,\n",
    "    activities,\n",
    "    tasks,\n",
    "    information,\n",
    "    application_blocks,\n",
    "    applications,\n",
    "    application_modules,\n",
    "    databases,\n",
    "    fluxes,\n",
    "    networks,\n",
    "    subnetworks,\n",
    "    gateways,\n",
    "    external_connected_entities,\n",
    "    routers,\n",
    "    dhcp_servers,\n",
    "    dnsservers,\n",
    "    logical_servers,\n",
    "    certificates,\n",
    "    sites,\n",
    "    buildings,\n",
    "    bays,\n",
    "    physical_servers,\n",
    "    workstations,\n",
    "    storage_devices,\n",
    "    peripherals,\n",
    "    phones,\n",
    "    physical_switches,\n",
    "    physical_routers,\n",
    "    physical_security_devices,\n",
    "    wans,\n",
    "    mans,\n",
    "    lans,\n",
    "    vlans\n",
    "]\n",
    "\n",
    "ecosystem_view = [\n",
    "    entities,\n",
    "    relations\n",
    "]\n",
    "\n",
    "information_systems_view = [\n",
    "    processes,\n",
    "    operations,\n",
    "    actors,\n",
    "    activities,\n",
    "    tasks,\n",
    "    information\n",
    "]\n",
    "\n",
    "applications_view = [\n",
    "    application_blocks,\n",
    "    applications,\n",
    "    application_modules,\n",
    "    databases,\n",
    "    fluxes\n",
    "]\n",
    "\n",
    "logical_infrastructure_view = [\n",
    "    networks,\n",
    "    subnetworks,\n",
    "    gateways,\n",
    "    external_connected_entities,\n",
    "    routers,\n",
    "    dhcp_servers,\n",
    "    dnsservers,\n",
    "    logical_servers,\n",
    "    certificates\n",
    "]\n",
    "\n",
    "physical_infrastructure_view = [\n",
    "    sites,\n",
    "    buildings,\n",
    "    bays,\n",
    "    physical_servers,\n",
    "    workstations,\n",
    "    storage_devices,\n",
    "    peripherals,\n",
    "    phones,\n",
    "    physical_switches,\n",
    "    physical_routers,\n",
    "    physical_security_devices,\n",
    "    wans,\n",
    "    mans,\n",
    "    lans,\n",
    "    vlans\n",
    "]\n",
    "print(fluxes)"
   ],
   "id": "65d755daa093eb67",
   "outputs": [
    {
     "name": "stdout",
     "output_type": "stream",
     "text": [
      "[{'id': 1, 'name': 'test', 'description': '<p>fefef</p>', 'created_at': '2024-06-29 13:56:19', 'updated_at': '2024-07-01 08:40:57', 'deleted_at': None, 'application_source_id': 1, 'service_source_id': None, 'module_source_id': None, 'database_source_id': None, 'application_dest_id': 2, 'service_dest_id': None, 'module_dest_id': None, 'database_dest_id': None, 'crypted': 0, 'bidirectional': 0, 'nature': None, 'maturity': None}]\n"
     ]
    }
   ],
   "execution_count": 33
  },
  {
   "metadata": {
    "ExecuteTime": {
     "end_time": "2024-07-01T08:59:34.094909Z",
     "start_time": "2024-07-01T08:59:34.089976Z"
    }
   },
   "cell_type": "code",
   "source": [
    "def remove_keys_from_dicts(element, keys):\n",
    "    for dictionary in element:\n",
    "        if isinstance(dictionary, dict):  # Check if it's a dictionary\n",
    "            for k in keys:\n",
    "                dictionary.pop(k, None)\n",
    "            \n",
    "# Define the keys to remove\n",
    "keys_to_remove = ['updated_at', 'deleted_at', 'created_at']\n",
    "\n",
    "# Remove keys from each variable\n",
    "for i in all_variables:\n",
    "    remove_keys_from_dicts(i, keys_to_remove)"
   ],
   "id": "e93e5aac32041b84",
   "outputs": [],
   "execution_count": 34
  },
  {
   "metadata": {
    "ExecuteTime": {
     "end_time": "2024-07-01T08:59:34.951440Z",
     "start_time": "2024-07-01T08:59:34.946717Z"
    }
   },
   "cell_type": "code",
   "source": "print(json.dumps(entities, indent=4))",
   "id": "e8049daf734108ea",
   "outputs": [
    {
     "name": "stdout",
     "output_type": "stream",
     "text": [
      "[\n",
      "    {\n",
      "        \"id\": 1,\n",
      "        \"name\": \"MegaNet System\",\n",
      "        \"security_level\": \"<p>ISO 27001</p>\",\n",
      "        \"contact_point\": \"<p>Helpdek<br>27, Rue des poire&nbsp;<br>12043 Mire-en-Mare le Bains</p><p>helpdes@menetsys.org</p>\",\n",
      "        \"description\": \"<p>Fournisseur \\u00e9quipement r\\u00e9seau</p>\",\n",
      "        \"is_external\": 1,\n",
      "        \"entity_type\": null,\n",
      "        \"attributes\": null,\n",
      "        \"reference\": null,\n",
      "        \"parent_entity_id\": null,\n",
      "        \"maturity\": null\n",
      "    },\n",
      "    {\n",
      "        \"id\": 2,\n",
      "        \"name\": \"Entit\\u00e91\",\n",
      "        \"security_level\": \"<p>N\\u00e9ant</p>\",\n",
      "        \"contact_point\": \"<ul><li>Commercial</li><li>Service Delivery</li><li>Helpdesk</li></ul>\",\n",
      "        \"description\": \"<p>Entit\\u00e9 de tests1</p>\",\n",
      "        \"is_external\": 0,\n",
      "        \"entity_type\": null,\n",
      "        \"attributes\": null,\n",
      "        \"reference\": null,\n",
      "        \"parent_entity_id\": null,\n",
      "        \"maturity\": null\n",
      "    },\n",
      "    {\n",
      "        \"id\": 4,\n",
      "        \"name\": \"Entit\\u00e93\",\n",
      "        \"security_level\": \"<p>ISO 9001</p>\",\n",
      "        \"contact_point\": \"<p>Point de contact de la troisi\\u00e8me entit\\u00e9</p>\",\n",
      "        \"description\": \"<p>Description de la troisi\\u00e8me entit\\u00e9.</p>\",\n",
      "        \"is_external\": 0,\n",
      "        \"entity_type\": null,\n",
      "        \"attributes\": null,\n",
      "        \"reference\": null,\n",
      "        \"parent_entity_id\": null,\n",
      "        \"maturity\": null\n",
      "    },\n",
      "    {\n",
      "        \"id\": 5,\n",
      "        \"name\": \"entit\\u00e96\",\n",
      "        \"security_level\": \"<p>N\\u00e9ant</p>\",\n",
      "        \"contact_point\": \"<p>support_informatque@entite6.fr</p>\",\n",
      "        \"description\": \"<p>Description de l'entit\\u00e9 six</p>\",\n",
      "        \"is_external\": 0,\n",
      "        \"entity_type\": null,\n",
      "        \"attributes\": null,\n",
      "        \"reference\": null,\n",
      "        \"parent_entity_id\": null,\n",
      "        \"maturity\": null\n",
      "    },\n",
      "    {\n",
      "        \"id\": 6,\n",
      "        \"name\": \"Entit\\u00e94\",\n",
      "        \"security_level\": \"<p>ISO 27001</p>\",\n",
      "        \"contact_point\": \"<p>Pierre Pinon<br>Tel: 00 34 392 484 22</p>\",\n",
      "        \"description\": \"<p>Description de l'entt\\u00e9 quatre</p>\",\n",
      "        \"is_external\": 0,\n",
      "        \"entity_type\": null,\n",
      "        \"attributes\": null,\n",
      "        \"reference\": null,\n",
      "        \"parent_entity_id\": null,\n",
      "        \"maturity\": null\n",
      "    },\n",
      "    {\n",
      "        \"id\": 7,\n",
      "        \"name\": \"Entit\\u00e95\",\n",
      "        \"security_level\": \"<p>N\\u00e9ant</p>\",\n",
      "        \"contact_point\": \"<p>Servicdesk@entite5.fr</p>\",\n",
      "        \"description\": \"<p>Description de l'entit\\u00e9 5</p>\",\n",
      "        \"is_external\": 0,\n",
      "        \"entity_type\": null,\n",
      "        \"attributes\": null,\n",
      "        \"reference\": null,\n",
      "        \"parent_entity_id\": null,\n",
      "        \"maturity\": null\n",
      "    },\n",
      "    {\n",
      "        \"id\": 8,\n",
      "        \"name\": \"Entit\\u00e92\",\n",
      "        \"security_level\": \"<p>ISO 27001</p>\",\n",
      "        \"contact_point\": \"<p>Point de contact de l'entit\\u00e9 2</p>\",\n",
      "        \"description\": \"<p>Description de l'entit\\u00e9 2</p>\",\n",
      "        \"is_external\": 0,\n",
      "        \"entity_type\": null,\n",
      "        \"attributes\": null,\n",
      "        \"reference\": null,\n",
      "        \"parent_entity_id\": null,\n",
      "        \"maturity\": null\n",
      "    },\n",
      "    {\n",
      "        \"id\": 9,\n",
      "        \"name\": \"NetworkSys\",\n",
      "        \"security_level\": \"<p>ISO 27001</p>\",\n",
      "        \"contact_point\": \"<p>support@networksys.fr</p>\",\n",
      "        \"description\": \"<p>Description de l\\u2019entit\\u00e9 NetworkSys</p>\",\n",
      "        \"is_external\": 1,\n",
      "        \"entity_type\": null,\n",
      "        \"attributes\": null,\n",
      "        \"reference\": null,\n",
      "        \"parent_entity_id\": null,\n",
      "        \"maturity\": null\n",
      "    },\n",
      "    {\n",
      "        \"id\": 12,\n",
      "        \"name\": \"Pierre et fils\",\n",
      "        \"security_level\": \"<p>Certifications :&nbsp;<br>- ISO 9001<br>- ISO 27001<br>- ISO 31000</p>\",\n",
      "        \"contact_point\": \"<p>Paul Pierre<br>G\\u00e9rant<br>00 33 4943 432 423</p>\",\n",
      "        \"description\": \"<p>Description de l'entit\\u00e9 de test</p>\",\n",
      "        \"is_external\": 1,\n",
      "        \"entity_type\": null,\n",
      "        \"attributes\": null,\n",
      "        \"reference\": null,\n",
      "        \"parent_entity_id\": null,\n",
      "        \"maturity\": null\n",
      "    },\n",
      "    {\n",
      "        \"id\": 13,\n",
      "        \"name\": \"Nestor\",\n",
      "        \"security_level\": \"<p>Haut niveau</p>\",\n",
      "        \"contact_point\": \"<p>Paul, Pierre et Jean</p>\",\n",
      "        \"description\": \"<p>Description de Nestor</p>\",\n",
      "        \"is_external\": 0,\n",
      "        \"entity_type\": null,\n",
      "        \"attributes\": null,\n",
      "        \"reference\": null,\n",
      "        \"parent_entity_id\": null,\n",
      "        \"maturity\": null\n",
      "    },\n",
      "    {\n",
      "        \"id\": 18,\n",
      "        \"name\": \"Acme corp.\",\n",
      "        \"security_level\": \"<p>None sorry...</p>\",\n",
      "        \"contact_point\": \"<p>Do not call me, I will call you back.</p>\",\n",
      "        \"description\": \"<p>Looney tunes academy</p>\",\n",
      "        \"is_external\": 1,\n",
      "        \"entity_type\": null,\n",
      "        \"attributes\": null,\n",
      "        \"reference\": null,\n",
      "        \"parent_entity_id\": null,\n",
      "        \"maturity\": null\n",
      "    },\n",
      "    {\n",
      "        \"id\": 19,\n",
      "        \"name\": \"HAL\",\n",
      "        \"security_level\": \"<p>Top security certification</p>\",\n",
      "        \"contact_point\": \"<p>hal@corp.com</p>\",\n",
      "        \"description\": \"<p>Very big HAL corporation</p>\",\n",
      "        \"is_external\": 0,\n",
      "        \"entity_type\": null,\n",
      "        \"attributes\": null,\n",
      "        \"reference\": null,\n",
      "        \"parent_entity_id\": null,\n",
      "        \"maturity\": null\n",
      "    },\n",
      "    {\n",
      "        \"id\": 22,\n",
      "        \"name\": \"test\",\n",
      "        \"security_level\": \"<p>fdfdfdfd</p>\",\n",
      "        \"contact_point\": \"<p>okok</p>\",\n",
      "        \"description\": \"<p>okoko</p>\",\n",
      "        \"is_external\": 0,\n",
      "        \"entity_type\": null,\n",
      "        \"attributes\": null,\n",
      "        \"reference\": null,\n",
      "        \"parent_entity_id\": 2,\n",
      "        \"maturity\": 5\n",
      "    }\n",
      "]\n"
     ]
    }
   ],
   "execution_count": 35
  },
  {
   "metadata": {
    "ExecuteTime": {
     "end_time": "2024-07-01T08:59:48.214504Z",
     "start_time": "2024-07-01T08:59:48.211534Z"
    }
   },
   "cell_type": "code",
   "source": [
    "def calculate_maturity(element):\n",
    "    for a in element:\n",
    "        print(json.dumps(a, indent=4))"
   ],
   "id": "f3a1839f0a51a4c9",
   "outputs": [],
   "execution_count": 36
  },
  {
   "metadata": {
    "ExecuteTime": {
     "end_time": "2024-07-01T08:59:49.661719Z",
     "start_time": "2024-07-01T08:59:49.656837Z"
    }
   },
   "cell_type": "code",
   "source": "calculate_maturity(entities)",
   "id": "e8cea36f9666de84",
   "outputs": [
    {
     "name": "stdout",
     "output_type": "stream",
     "text": [
      "{\n",
      "    \"id\": 1,\n",
      "    \"name\": \"MegaNet System\",\n",
      "    \"security_level\": \"<p>ISO 27001</p>\",\n",
      "    \"contact_point\": \"<p>Helpdek<br>27, Rue des poire&nbsp;<br>12043 Mire-en-Mare le Bains</p><p>helpdes@menetsys.org</p>\",\n",
      "    \"description\": \"<p>Fournisseur \\u00e9quipement r\\u00e9seau</p>\",\n",
      "    \"is_external\": 1,\n",
      "    \"entity_type\": null,\n",
      "    \"attributes\": null,\n",
      "    \"reference\": null,\n",
      "    \"parent_entity_id\": null,\n",
      "    \"maturity\": null\n",
      "}\n",
      "{\n",
      "    \"id\": 2,\n",
      "    \"name\": \"Entit\\u00e91\",\n",
      "    \"security_level\": \"<p>N\\u00e9ant</p>\",\n",
      "    \"contact_point\": \"<ul><li>Commercial</li><li>Service Delivery</li><li>Helpdesk</li></ul>\",\n",
      "    \"description\": \"<p>Entit\\u00e9 de tests1</p>\",\n",
      "    \"is_external\": 0,\n",
      "    \"entity_type\": null,\n",
      "    \"attributes\": null,\n",
      "    \"reference\": null,\n",
      "    \"parent_entity_id\": null,\n",
      "    \"maturity\": null\n",
      "}\n",
      "{\n",
      "    \"id\": 4,\n",
      "    \"name\": \"Entit\\u00e93\",\n",
      "    \"security_level\": \"<p>ISO 9001</p>\",\n",
      "    \"contact_point\": \"<p>Point de contact de la troisi\\u00e8me entit\\u00e9</p>\",\n",
      "    \"description\": \"<p>Description de la troisi\\u00e8me entit\\u00e9.</p>\",\n",
      "    \"is_external\": 0,\n",
      "    \"entity_type\": null,\n",
      "    \"attributes\": null,\n",
      "    \"reference\": null,\n",
      "    \"parent_entity_id\": null,\n",
      "    \"maturity\": null\n",
      "}\n",
      "{\n",
      "    \"id\": 5,\n",
      "    \"name\": \"entit\\u00e96\",\n",
      "    \"security_level\": \"<p>N\\u00e9ant</p>\",\n",
      "    \"contact_point\": \"<p>support_informatque@entite6.fr</p>\",\n",
      "    \"description\": \"<p>Description de l'entit\\u00e9 six</p>\",\n",
      "    \"is_external\": 0,\n",
      "    \"entity_type\": null,\n",
      "    \"attributes\": null,\n",
      "    \"reference\": null,\n",
      "    \"parent_entity_id\": null,\n",
      "    \"maturity\": null\n",
      "}\n",
      "{\n",
      "    \"id\": 6,\n",
      "    \"name\": \"Entit\\u00e94\",\n",
      "    \"security_level\": \"<p>ISO 27001</p>\",\n",
      "    \"contact_point\": \"<p>Pierre Pinon<br>Tel: 00 34 392 484 22</p>\",\n",
      "    \"description\": \"<p>Description de l'entt\\u00e9 quatre</p>\",\n",
      "    \"is_external\": 0,\n",
      "    \"entity_type\": null,\n",
      "    \"attributes\": null,\n",
      "    \"reference\": null,\n",
      "    \"parent_entity_id\": null,\n",
      "    \"maturity\": null\n",
      "}\n",
      "{\n",
      "    \"id\": 7,\n",
      "    \"name\": \"Entit\\u00e95\",\n",
      "    \"security_level\": \"<p>N\\u00e9ant</p>\",\n",
      "    \"contact_point\": \"<p>Servicdesk@entite5.fr</p>\",\n",
      "    \"description\": \"<p>Description de l'entit\\u00e9 5</p>\",\n",
      "    \"is_external\": 0,\n",
      "    \"entity_type\": null,\n",
      "    \"attributes\": null,\n",
      "    \"reference\": null,\n",
      "    \"parent_entity_id\": null,\n",
      "    \"maturity\": null\n",
      "}\n",
      "{\n",
      "    \"id\": 8,\n",
      "    \"name\": \"Entit\\u00e92\",\n",
      "    \"security_level\": \"<p>ISO 27001</p>\",\n",
      "    \"contact_point\": \"<p>Point de contact de l'entit\\u00e9 2</p>\",\n",
      "    \"description\": \"<p>Description de l'entit\\u00e9 2</p>\",\n",
      "    \"is_external\": 0,\n",
      "    \"entity_type\": null,\n",
      "    \"attributes\": null,\n",
      "    \"reference\": null,\n",
      "    \"parent_entity_id\": null,\n",
      "    \"maturity\": null\n",
      "}\n",
      "{\n",
      "    \"id\": 9,\n",
      "    \"name\": \"NetworkSys\",\n",
      "    \"security_level\": \"<p>ISO 27001</p>\",\n",
      "    \"contact_point\": \"<p>support@networksys.fr</p>\",\n",
      "    \"description\": \"<p>Description de l\\u2019entit\\u00e9 NetworkSys</p>\",\n",
      "    \"is_external\": 1,\n",
      "    \"entity_type\": null,\n",
      "    \"attributes\": null,\n",
      "    \"reference\": null,\n",
      "    \"parent_entity_id\": null,\n",
      "    \"maturity\": null\n",
      "}\n",
      "{\n",
      "    \"id\": 12,\n",
      "    \"name\": \"Pierre et fils\",\n",
      "    \"security_level\": \"<p>Certifications :&nbsp;<br>- ISO 9001<br>- ISO 27001<br>- ISO 31000</p>\",\n",
      "    \"contact_point\": \"<p>Paul Pierre<br>G\\u00e9rant<br>00 33 4943 432 423</p>\",\n",
      "    \"description\": \"<p>Description de l'entit\\u00e9 de test</p>\",\n",
      "    \"is_external\": 1,\n",
      "    \"entity_type\": null,\n",
      "    \"attributes\": null,\n",
      "    \"reference\": null,\n",
      "    \"parent_entity_id\": null,\n",
      "    \"maturity\": null\n",
      "}\n",
      "{\n",
      "    \"id\": 13,\n",
      "    \"name\": \"Nestor\",\n",
      "    \"security_level\": \"<p>Haut niveau</p>\",\n",
      "    \"contact_point\": \"<p>Paul, Pierre et Jean</p>\",\n",
      "    \"description\": \"<p>Description de Nestor</p>\",\n",
      "    \"is_external\": 0,\n",
      "    \"entity_type\": null,\n",
      "    \"attributes\": null,\n",
      "    \"reference\": null,\n",
      "    \"parent_entity_id\": null,\n",
      "    \"maturity\": null\n",
      "}\n",
      "{\n",
      "    \"id\": 18,\n",
      "    \"name\": \"Acme corp.\",\n",
      "    \"security_level\": \"<p>None sorry...</p>\",\n",
      "    \"contact_point\": \"<p>Do not call me, I will call you back.</p>\",\n",
      "    \"description\": \"<p>Looney tunes academy</p>\",\n",
      "    \"is_external\": 1,\n",
      "    \"entity_type\": null,\n",
      "    \"attributes\": null,\n",
      "    \"reference\": null,\n",
      "    \"parent_entity_id\": null,\n",
      "    \"maturity\": null\n",
      "}\n",
      "{\n",
      "    \"id\": 19,\n",
      "    \"name\": \"HAL\",\n",
      "    \"security_level\": \"<p>Top security certification</p>\",\n",
      "    \"contact_point\": \"<p>hal@corp.com</p>\",\n",
      "    \"description\": \"<p>Very big HAL corporation</p>\",\n",
      "    \"is_external\": 0,\n",
      "    \"entity_type\": null,\n",
      "    \"attributes\": null,\n",
      "    \"reference\": null,\n",
      "    \"parent_entity_id\": null,\n",
      "    \"maturity\": null\n",
      "}\n",
      "{\n",
      "    \"id\": 22,\n",
      "    \"name\": \"test\",\n",
      "    \"security_level\": \"<p>fdfdfdfd</p>\",\n",
      "    \"contact_point\": \"<p>okok</p>\",\n",
      "    \"description\": \"<p>okoko</p>\",\n",
      "    \"is_external\": 0,\n",
      "    \"entity_type\": null,\n",
      "    \"attributes\": null,\n",
      "    \"reference\": null,\n",
      "    \"parent_entity_id\": 2,\n",
      "    \"maturity\": 5\n",
      "}\n"
     ]
    }
   ],
   "execution_count": 37
  },
  {
   "metadata": {
    "ExecuteTime": {
     "end_time": "2024-07-01T08:59:51.475292Z",
     "start_time": "2024-07-01T08:59:51.470459Z"
    }
   },
   "cell_type": "code",
   "source": [
    "def calculate_element_granularity(element):   \n",
    "    element_maturity_level = 0\n",
    "    element_number = len(element)\n",
    "    for i in element:    \n",
    "        max_content_maturity_level = len(i) - 1\n",
    "        maturity_index = 0\n",
    "        for a in i:\n",
    "            id_key = list(i)[0]\n",
    "            if a is not id_key:\n",
    "                if i[a]:\n",
    "                    maturity_index += 1\n",
    "        avg_maturity_index = maturity_index / max_content_maturity_level\n",
    "        element_maturity_level += avg_maturity_index\n",
    "    avg_element_maturity_level = element_maturity_level / element_number * 5\n",
    "    return avg_element_maturity_level\n",
    "    "
   ],
   "id": "95b7a66bebe0e7cb",
   "outputs": [],
   "execution_count": 38
  },
  {
   "metadata": {
    "ExecuteTime": {
     "end_time": "2024-07-01T08:59:57.293471Z",
     "start_time": "2024-07-01T08:59:57.289956Z"
    }
   },
   "cell_type": "code",
   "source": [
    "def calculate_zone_granularity(domain):\n",
    "    domain_element_number = len(domain)\n",
    "    domain_granularity_index = 0\n",
    "    for element in domain:\n",
    "        try:\n",
    "            element_granularity_index = calculate_element_granularity(element)\n",
    "        except ZeroDivisionError:\n",
    "            element_granularity_index = 0\n",
    "        domain_granularity_index += element_granularity_index\n",
    "    avg_domain_granularity_index = round(domain_granularity_index / domain_element_number,2)\n",
    "    return avg_domain_granularity_index\n",
    "        "
   ],
   "id": "6c61619f980ba4d2",
   "outputs": [],
   "execution_count": 39
  },
  {
   "metadata": {
    "ExecuteTime": {
     "end_time": "2024-07-01T09:00:25.544014Z",
     "start_time": "2024-07-01T09:00:25.538917Z"
    }
   },
   "cell_type": "code",
   "source": [
    "print(calculate_zone_granularity(ecosystem_view))\n",
    "print(calculate_zone_granularity(information_systems_view))\n",
    "print(calculate_zone_granularity(applications_view))\n",
    "print(calculate_zone_granularity(logical_infrastructure_view))\n",
    "print(calculate_zone_granularity(physical_infrastructure_view))\n"
   ],
   "id": "dc606b382c3a8bc4",
   "outputs": [
    {
     "name": "stdout",
     "output_type": "stream",
     "text": [
      "1.98\n",
      "3.86\n",
      "3.03\n",
      "2.03\n",
      "2.92\n"
     ]
    }
   ],
   "execution_count": 41
  },
  {
   "metadata": {
    "ExecuteTime": {
     "end_time": "2024-07-01T09:32:13.249274Z",
     "start_time": "2024-07-01T09:32:13.244321Z"
    }
   },
   "cell_type": "code",
   "source": [
    "def calculate_zone_maturity(zone):\n",
    "    zone_element_number = len(zone)\n",
    "    zone_maturity_index = 0\n",
    "    for element in zone:\n",
    "        element_item_number = len(element)\n",
    "        element_maturity_index = 0\n",
    "        for item in element:\n",
    "            maturity = item['maturity']\n",
    "            if maturity is None:\n",
    "                maturity = 0\n",
    "            element_maturity_index += maturity\n",
    "        try:\n",
    "            avg_element_maturity = round(element_maturity_index / element_item_number, 2)\n",
    "        except ZeroDivisionError:\n",
    "            avg_element_maturity = 0\n",
    "        zone_maturity_index += avg_element_maturity\n",
    "    try: \n",
    "        avg_zone_maturity = round(zone_maturity_index / zone_element_number, 2)\n",
    "    except ZeroDivisionError:\n",
    "        avg_zone_maturity = 0\n",
    "    return avg_zone_maturity\n",
    "        "
   ],
   "id": "142f3505cde400d",
   "outputs": [],
   "execution_count": 95
  },
  {
   "metadata": {
    "ExecuteTime": {
     "end_time": "2024-07-01T09:32:56.825485Z",
     "start_time": "2024-07-01T09:32:56.821786Z"
    }
   },
   "cell_type": "code",
   "source": [
    "print(calculate_zone_maturity(ecosystem_view))\n",
    "print(calculate_zone_maturity(information_systems_view))\n",
    "print(calculate_zone_maturity(applications_view))\n",
    "print(calculate_zone_maturity(logical_infrastructure_view))\n",
    "print(calculate_zone_maturity(physical_infrastructure_view))"
   ],
   "id": "293a95cf1bd86fc2",
   "outputs": [
    {
     "name": "stdout",
     "output_type": "stream",
     "text": [
      "0.3\n",
      "0.98\n",
      "0.4\n",
      "2.4\n",
      "0.89\n"
     ]
    }
   ],
   "execution_count": 97
  },
  {
   "metadata": {
    "ExecuteTime": {
     "end_time": "2024-07-01T09:35:20.891956Z",
     "start_time": "2024-07-01T09:35:20.830770Z"
    }
   },
   "cell_type": "code",
   "source": [
    "# phase de visualisation\n",
    "import pandas as pd\n",
    "import plotly.express as px\n",
    "\n",
    "df = pd.DataFrame({\n",
    "    'Name':['Maturity', 'Maturity', 'Maturity', 'Maturity', 'Maturity', 'Granularity', 'Granularity', 'Granularity', 'Granularity', 'Granularity'],\n",
    "    'Maturity': [ \n",
    "        calculate_zone_maturity(ecosystem_view), \n",
    "        calculate_zone_maturity(information_systems_view), \n",
    "        calculate_zone_maturity(applications_view), \n",
    "        calculate_zone_maturity(logical_infrastructure_view), \n",
    "        calculate_zone_maturity(physical_infrastructure_view),\n",
    "        calculate_zone_granularity(ecosystem_view), \n",
    "        calculate_zone_granularity(information_systems_view), \n",
    "        calculate_zone_granularity(applications_view), \n",
    "        calculate_zone_granularity(logical_infrastructure_view), \n",
    "        calculate_zone_granularity(physical_infrastructure_view)\n",
    "    ],\n",
    "    'Theta':[\"Ecosystem\",\"Information systems\",\"Applications\",\"Logical infrastructure\",\"Physical infrastructure\", \"Ecosystem\",\"Information systems\",\"Applications\",\"Logical infrastructure\",\"Physical infrastructure\"]\n",
    "})\n",
    "fig = px.line_polar(df, r='Maturity', theta='Theta', line_close=True, color='Name')\n",
    "fig.update_layout(\n",
    "  polar=dict(\n",
    "    radialaxis=dict(\n",
    "      visible=True,\n",
    "      range=[0, 5]\n",
    "    )\n",
    "  )\n",
    ")\n",
    "for trace in fig.data:\n",
    "    if trace.name == 'Maturity':\n",
    "        trace.fill = 'toself'\n",
    "    else:\n",
    "        trace.fill = None\n",
    "\n",
    "fig.show()"
   ],
   "id": "3eb2f924b4c17066",
   "outputs": [
    {
     "data": {
      "application/vnd.plotly.v1+json": {
       "data": [
        {
         "hovertemplate": "Name=Maturity<br>Maturity=%{r}<br>Theta=%{theta}<extra></extra>",
         "legendgroup": "Maturity",
         "line": {
          "color": "#636efa",
          "dash": "solid"
         },
         "marker": {
          "symbol": "circle"
         },
         "mode": "lines",
         "name": "Maturity",
         "r": [
          0.3,
          0.98,
          0.4,
          2.4,
          0.89,
          0.3
         ],
         "showlegend": true,
         "subplot": "polar",
         "theta": [
          "Ecosystem",
          "Information systems",
          "Applications",
          "Logical infrastructure",
          "Physical infrastructure",
          "Ecosystem"
         ],
         "type": "scatterpolar",
         "fill": "toself"
        },
        {
         "hovertemplate": "Name=Granularity<br>Maturity=%{r}<br>Theta=%{theta}<extra></extra>",
         "legendgroup": "Granularity",
         "line": {
          "color": "#EF553B",
          "dash": "solid"
         },
         "marker": {
          "symbol": "circle"
         },
         "mode": "lines",
         "name": "Granularity",
         "r": [
          1.98,
          3.86,
          3.03,
          2.03,
          2.92,
          1.98
         ],
         "showlegend": true,
         "subplot": "polar",
         "theta": [
          "Ecosystem",
          "Information systems",
          "Applications",
          "Logical infrastructure",
          "Physical infrastructure",
          "Ecosystem"
         ],
         "type": "scatterpolar"
        }
       ],
       "layout": {
        "template": {
         "data": {
          "histogram2dcontour": [
           {
            "type": "histogram2dcontour",
            "colorbar": {
             "outlinewidth": 0,
             "ticks": ""
            },
            "colorscale": [
             [
              0.0,
              "#0d0887"
             ],
             [
              0.1111111111111111,
              "#46039f"
             ],
             [
              0.2222222222222222,
              "#7201a8"
             ],
             [
              0.3333333333333333,
              "#9c179e"
             ],
             [
              0.4444444444444444,
              "#bd3786"
             ],
             [
              0.5555555555555556,
              "#d8576b"
             ],
             [
              0.6666666666666666,
              "#ed7953"
             ],
             [
              0.7777777777777778,
              "#fb9f3a"
             ],
             [
              0.8888888888888888,
              "#fdca26"
             ],
             [
              1.0,
              "#f0f921"
             ]
            ]
           }
          ],
          "choropleth": [
           {
            "type": "choropleth",
            "colorbar": {
             "outlinewidth": 0,
             "ticks": ""
            }
           }
          ],
          "histogram2d": [
           {
            "type": "histogram2d",
            "colorbar": {
             "outlinewidth": 0,
             "ticks": ""
            },
            "colorscale": [
             [
              0.0,
              "#0d0887"
             ],
             [
              0.1111111111111111,
              "#46039f"
             ],
             [
              0.2222222222222222,
              "#7201a8"
             ],
             [
              0.3333333333333333,
              "#9c179e"
             ],
             [
              0.4444444444444444,
              "#bd3786"
             ],
             [
              0.5555555555555556,
              "#d8576b"
             ],
             [
              0.6666666666666666,
              "#ed7953"
             ],
             [
              0.7777777777777778,
              "#fb9f3a"
             ],
             [
              0.8888888888888888,
              "#fdca26"
             ],
             [
              1.0,
              "#f0f921"
             ]
            ]
           }
          ],
          "heatmap": [
           {
            "type": "heatmap",
            "colorbar": {
             "outlinewidth": 0,
             "ticks": ""
            },
            "colorscale": [
             [
              0.0,
              "#0d0887"
             ],
             [
              0.1111111111111111,
              "#46039f"
             ],
             [
              0.2222222222222222,
              "#7201a8"
             ],
             [
              0.3333333333333333,
              "#9c179e"
             ],
             [
              0.4444444444444444,
              "#bd3786"
             ],
             [
              0.5555555555555556,
              "#d8576b"
             ],
             [
              0.6666666666666666,
              "#ed7953"
             ],
             [
              0.7777777777777778,
              "#fb9f3a"
             ],
             [
              0.8888888888888888,
              "#fdca26"
             ],
             [
              1.0,
              "#f0f921"
             ]
            ]
           }
          ],
          "heatmapgl": [
           {
            "type": "heatmapgl",
            "colorbar": {
             "outlinewidth": 0,
             "ticks": ""
            },
            "colorscale": [
             [
              0.0,
              "#0d0887"
             ],
             [
              0.1111111111111111,
              "#46039f"
             ],
             [
              0.2222222222222222,
              "#7201a8"
             ],
             [
              0.3333333333333333,
              "#9c179e"
             ],
             [
              0.4444444444444444,
              "#bd3786"
             ],
             [
              0.5555555555555556,
              "#d8576b"
             ],
             [
              0.6666666666666666,
              "#ed7953"
             ],
             [
              0.7777777777777778,
              "#fb9f3a"
             ],
             [
              0.8888888888888888,
              "#fdca26"
             ],
             [
              1.0,
              "#f0f921"
             ]
            ]
           }
          ],
          "contourcarpet": [
           {
            "type": "contourcarpet",
            "colorbar": {
             "outlinewidth": 0,
             "ticks": ""
            }
           }
          ],
          "contour": [
           {
            "type": "contour",
            "colorbar": {
             "outlinewidth": 0,
             "ticks": ""
            },
            "colorscale": [
             [
              0.0,
              "#0d0887"
             ],
             [
              0.1111111111111111,
              "#46039f"
             ],
             [
              0.2222222222222222,
              "#7201a8"
             ],
             [
              0.3333333333333333,
              "#9c179e"
             ],
             [
              0.4444444444444444,
              "#bd3786"
             ],
             [
              0.5555555555555556,
              "#d8576b"
             ],
             [
              0.6666666666666666,
              "#ed7953"
             ],
             [
              0.7777777777777778,
              "#fb9f3a"
             ],
             [
              0.8888888888888888,
              "#fdca26"
             ],
             [
              1.0,
              "#f0f921"
             ]
            ]
           }
          ],
          "surface": [
           {
            "type": "surface",
            "colorbar": {
             "outlinewidth": 0,
             "ticks": ""
            },
            "colorscale": [
             [
              0.0,
              "#0d0887"
             ],
             [
              0.1111111111111111,
              "#46039f"
             ],
             [
              0.2222222222222222,
              "#7201a8"
             ],
             [
              0.3333333333333333,
              "#9c179e"
             ],
             [
              0.4444444444444444,
              "#bd3786"
             ],
             [
              0.5555555555555556,
              "#d8576b"
             ],
             [
              0.6666666666666666,
              "#ed7953"
             ],
             [
              0.7777777777777778,
              "#fb9f3a"
             ],
             [
              0.8888888888888888,
              "#fdca26"
             ],
             [
              1.0,
              "#f0f921"
             ]
            ]
           }
          ],
          "mesh3d": [
           {
            "type": "mesh3d",
            "colorbar": {
             "outlinewidth": 0,
             "ticks": ""
            }
           }
          ],
          "scatter": [
           {
            "fillpattern": {
             "fillmode": "overlay",
             "size": 10,
             "solidity": 0.2
            },
            "type": "scatter"
           }
          ],
          "parcoords": [
           {
            "type": "parcoords",
            "line": {
             "colorbar": {
              "outlinewidth": 0,
              "ticks": ""
             }
            }
           }
          ],
          "scatterpolargl": [
           {
            "type": "scatterpolargl",
            "marker": {
             "colorbar": {
              "outlinewidth": 0,
              "ticks": ""
             }
            }
           }
          ],
          "bar": [
           {
            "error_x": {
             "color": "#2a3f5f"
            },
            "error_y": {
             "color": "#2a3f5f"
            },
            "marker": {
             "line": {
              "color": "#E5ECF6",
              "width": 0.5
             },
             "pattern": {
              "fillmode": "overlay",
              "size": 10,
              "solidity": 0.2
             }
            },
            "type": "bar"
           }
          ],
          "scattergeo": [
           {
            "type": "scattergeo",
            "marker": {
             "colorbar": {
              "outlinewidth": 0,
              "ticks": ""
             }
            }
           }
          ],
          "scatterpolar": [
           {
            "type": "scatterpolar",
            "marker": {
             "colorbar": {
              "outlinewidth": 0,
              "ticks": ""
             }
            }
           }
          ],
          "histogram": [
           {
            "marker": {
             "pattern": {
              "fillmode": "overlay",
              "size": 10,
              "solidity": 0.2
             }
            },
            "type": "histogram"
           }
          ],
          "scattergl": [
           {
            "type": "scattergl",
            "marker": {
             "colorbar": {
              "outlinewidth": 0,
              "ticks": ""
             }
            }
           }
          ],
          "scatter3d": [
           {
            "type": "scatter3d",
            "line": {
             "colorbar": {
              "outlinewidth": 0,
              "ticks": ""
             }
            },
            "marker": {
             "colorbar": {
              "outlinewidth": 0,
              "ticks": ""
             }
            }
           }
          ],
          "scattermapbox": [
           {
            "type": "scattermapbox",
            "marker": {
             "colorbar": {
              "outlinewidth": 0,
              "ticks": ""
             }
            }
           }
          ],
          "scatterternary": [
           {
            "type": "scatterternary",
            "marker": {
             "colorbar": {
              "outlinewidth": 0,
              "ticks": ""
             }
            }
           }
          ],
          "scattercarpet": [
           {
            "type": "scattercarpet",
            "marker": {
             "colorbar": {
              "outlinewidth": 0,
              "ticks": ""
             }
            }
           }
          ],
          "carpet": [
           {
            "aaxis": {
             "endlinecolor": "#2a3f5f",
             "gridcolor": "white",
             "linecolor": "white",
             "minorgridcolor": "white",
             "startlinecolor": "#2a3f5f"
            },
            "baxis": {
             "endlinecolor": "#2a3f5f",
             "gridcolor": "white",
             "linecolor": "white",
             "minorgridcolor": "white",
             "startlinecolor": "#2a3f5f"
            },
            "type": "carpet"
           }
          ],
          "table": [
           {
            "cells": {
             "fill": {
              "color": "#EBF0F8"
             },
             "line": {
              "color": "white"
             }
            },
            "header": {
             "fill": {
              "color": "#C8D4E3"
             },
             "line": {
              "color": "white"
             }
            },
            "type": "table"
           }
          ],
          "barpolar": [
           {
            "marker": {
             "line": {
              "color": "#E5ECF6",
              "width": 0.5
             },
             "pattern": {
              "fillmode": "overlay",
              "size": 10,
              "solidity": 0.2
             }
            },
            "type": "barpolar"
           }
          ],
          "pie": [
           {
            "automargin": true,
            "type": "pie"
           }
          ]
         },
         "layout": {
          "autotypenumbers": "strict",
          "colorway": [
           "#636efa",
           "#EF553B",
           "#00cc96",
           "#ab63fa",
           "#FFA15A",
           "#19d3f3",
           "#FF6692",
           "#B6E880",
           "#FF97FF",
           "#FECB52"
          ],
          "font": {
           "color": "#2a3f5f"
          },
          "hovermode": "closest",
          "hoverlabel": {
           "align": "left"
          },
          "paper_bgcolor": "white",
          "plot_bgcolor": "#E5ECF6",
          "polar": {
           "bgcolor": "#E5ECF6",
           "angularaxis": {
            "gridcolor": "white",
            "linecolor": "white",
            "ticks": ""
           },
           "radialaxis": {
            "gridcolor": "white",
            "linecolor": "white",
            "ticks": ""
           }
          },
          "ternary": {
           "bgcolor": "#E5ECF6",
           "aaxis": {
            "gridcolor": "white",
            "linecolor": "white",
            "ticks": ""
           },
           "baxis": {
            "gridcolor": "white",
            "linecolor": "white",
            "ticks": ""
           },
           "caxis": {
            "gridcolor": "white",
            "linecolor": "white",
            "ticks": ""
           }
          },
          "coloraxis": {
           "colorbar": {
            "outlinewidth": 0,
            "ticks": ""
           }
          },
          "colorscale": {
           "sequential": [
            [
             0.0,
             "#0d0887"
            ],
            [
             0.1111111111111111,
             "#46039f"
            ],
            [
             0.2222222222222222,
             "#7201a8"
            ],
            [
             0.3333333333333333,
             "#9c179e"
            ],
            [
             0.4444444444444444,
             "#bd3786"
            ],
            [
             0.5555555555555556,
             "#d8576b"
            ],
            [
             0.6666666666666666,
             "#ed7953"
            ],
            [
             0.7777777777777778,
             "#fb9f3a"
            ],
            [
             0.8888888888888888,
             "#fdca26"
            ],
            [
             1.0,
             "#f0f921"
            ]
           ],
           "sequentialminus": [
            [
             0.0,
             "#0d0887"
            ],
            [
             0.1111111111111111,
             "#46039f"
            ],
            [
             0.2222222222222222,
             "#7201a8"
            ],
            [
             0.3333333333333333,
             "#9c179e"
            ],
            [
             0.4444444444444444,
             "#bd3786"
            ],
            [
             0.5555555555555556,
             "#d8576b"
            ],
            [
             0.6666666666666666,
             "#ed7953"
            ],
            [
             0.7777777777777778,
             "#fb9f3a"
            ],
            [
             0.8888888888888888,
             "#fdca26"
            ],
            [
             1.0,
             "#f0f921"
            ]
           ],
           "diverging": [
            [
             0,
             "#8e0152"
            ],
            [
             0.1,
             "#c51b7d"
            ],
            [
             0.2,
             "#de77ae"
            ],
            [
             0.3,
             "#f1b6da"
            ],
            [
             0.4,
             "#fde0ef"
            ],
            [
             0.5,
             "#f7f7f7"
            ],
            [
             0.6,
             "#e6f5d0"
            ],
            [
             0.7,
             "#b8e186"
            ],
            [
             0.8,
             "#7fbc41"
            ],
            [
             0.9,
             "#4d9221"
            ],
            [
             1,
             "#276419"
            ]
           ]
          },
          "xaxis": {
           "gridcolor": "white",
           "linecolor": "white",
           "ticks": "",
           "title": {
            "standoff": 15
           },
           "zerolinecolor": "white",
           "automargin": true,
           "zerolinewidth": 2
          },
          "yaxis": {
           "gridcolor": "white",
           "linecolor": "white",
           "ticks": "",
           "title": {
            "standoff": 15
           },
           "zerolinecolor": "white",
           "automargin": true,
           "zerolinewidth": 2
          },
          "scene": {
           "xaxis": {
            "backgroundcolor": "#E5ECF6",
            "gridcolor": "white",
            "linecolor": "white",
            "showbackground": true,
            "ticks": "",
            "zerolinecolor": "white",
            "gridwidth": 2
           },
           "yaxis": {
            "backgroundcolor": "#E5ECF6",
            "gridcolor": "white",
            "linecolor": "white",
            "showbackground": true,
            "ticks": "",
            "zerolinecolor": "white",
            "gridwidth": 2
           },
           "zaxis": {
            "backgroundcolor": "#E5ECF6",
            "gridcolor": "white",
            "linecolor": "white",
            "showbackground": true,
            "ticks": "",
            "zerolinecolor": "white",
            "gridwidth": 2
           }
          },
          "shapedefaults": {
           "line": {
            "color": "#2a3f5f"
           }
          },
          "annotationdefaults": {
           "arrowcolor": "#2a3f5f",
           "arrowhead": 0,
           "arrowwidth": 1
          },
          "geo": {
           "bgcolor": "white",
           "landcolor": "#E5ECF6",
           "subunitcolor": "white",
           "showland": true,
           "showlakes": true,
           "lakecolor": "white"
          },
          "title": {
           "x": 0.05
          },
          "mapbox": {
           "style": "light"
          }
         }
        },
        "polar": {
         "domain": {
          "x": [
           0.0,
           1.0
          ],
          "y": [
           0.0,
           1.0
          ]
         },
         "angularaxis": {
          "direction": "clockwise",
          "rotation": 90
         },
         "radialaxis": {
          "visible": true,
          "range": [
           0,
           5
          ]
         }
        },
        "legend": {
         "title": {
          "text": "Name"
         },
         "tracegroupgap": 0
        },
        "margin": {
         "t": 60
        }
       },
       "config": {
        "plotlyServerURL": "https://plot.ly"
       }
      },
      "text/html": [
       "<div>                            <div id=\"f36485e4-ed09-42e8-9120-dbda0bb221d5\" class=\"plotly-graph-div\" style=\"height:525px; width:100%;\"></div>            <script type=\"text/javascript\">                require([\"plotly\"], function(Plotly) {                    window.PLOTLYENV=window.PLOTLYENV || {};                                    if (document.getElementById(\"f36485e4-ed09-42e8-9120-dbda0bb221d5\")) {                    Plotly.newPlot(                        \"f36485e4-ed09-42e8-9120-dbda0bb221d5\",                        [{\"hovertemplate\":\"Name=Maturity\\u003cbr\\u003eMaturity=%{r}\\u003cbr\\u003eTheta=%{theta}\\u003cextra\\u003e\\u003c\\u002fextra\\u003e\",\"legendgroup\":\"Maturity\",\"line\":{\"color\":\"#636efa\",\"dash\":\"solid\"},\"marker\":{\"symbol\":\"circle\"},\"mode\":\"lines\",\"name\":\"Maturity\",\"r\":[0.3,0.98,0.4,2.4,0.89,0.3],\"showlegend\":true,\"subplot\":\"polar\",\"theta\":[\"Ecosystem\",\"Information systems\",\"Applications\",\"Logical infrastructure\",\"Physical infrastructure\",\"Ecosystem\"],\"type\":\"scatterpolar\",\"fill\":\"toself\"},{\"hovertemplate\":\"Name=Granularity\\u003cbr\\u003eMaturity=%{r}\\u003cbr\\u003eTheta=%{theta}\\u003cextra\\u003e\\u003c\\u002fextra\\u003e\",\"legendgroup\":\"Granularity\",\"line\":{\"color\":\"#EF553B\",\"dash\":\"solid\"},\"marker\":{\"symbol\":\"circle\"},\"mode\":\"lines\",\"name\":\"Granularity\",\"r\":[1.98,3.86,3.03,2.03,2.92,1.98],\"showlegend\":true,\"subplot\":\"polar\",\"theta\":[\"Ecosystem\",\"Information systems\",\"Applications\",\"Logical infrastructure\",\"Physical infrastructure\",\"Ecosystem\"],\"type\":\"scatterpolar\"}],                        {\"template\":{\"data\":{\"histogram2dcontour\":[{\"type\":\"histogram2dcontour\",\"colorbar\":{\"outlinewidth\":0,\"ticks\":\"\"},\"colorscale\":[[0.0,\"#0d0887\"],[0.1111111111111111,\"#46039f\"],[0.2222222222222222,\"#7201a8\"],[0.3333333333333333,\"#9c179e\"],[0.4444444444444444,\"#bd3786\"],[0.5555555555555556,\"#d8576b\"],[0.6666666666666666,\"#ed7953\"],[0.7777777777777778,\"#fb9f3a\"],[0.8888888888888888,\"#fdca26\"],[1.0,\"#f0f921\"]]}],\"choropleth\":[{\"type\":\"choropleth\",\"colorbar\":{\"outlinewidth\":0,\"ticks\":\"\"}}],\"histogram2d\":[{\"type\":\"histogram2d\",\"colorbar\":{\"outlinewidth\":0,\"ticks\":\"\"},\"colorscale\":[[0.0,\"#0d0887\"],[0.1111111111111111,\"#46039f\"],[0.2222222222222222,\"#7201a8\"],[0.3333333333333333,\"#9c179e\"],[0.4444444444444444,\"#bd3786\"],[0.5555555555555556,\"#d8576b\"],[0.6666666666666666,\"#ed7953\"],[0.7777777777777778,\"#fb9f3a\"],[0.8888888888888888,\"#fdca26\"],[1.0,\"#f0f921\"]]}],\"heatmap\":[{\"type\":\"heatmap\",\"colorbar\":{\"outlinewidth\":0,\"ticks\":\"\"},\"colorscale\":[[0.0,\"#0d0887\"],[0.1111111111111111,\"#46039f\"],[0.2222222222222222,\"#7201a8\"],[0.3333333333333333,\"#9c179e\"],[0.4444444444444444,\"#bd3786\"],[0.5555555555555556,\"#d8576b\"],[0.6666666666666666,\"#ed7953\"],[0.7777777777777778,\"#fb9f3a\"],[0.8888888888888888,\"#fdca26\"],[1.0,\"#f0f921\"]]}],\"heatmapgl\":[{\"type\":\"heatmapgl\",\"colorbar\":{\"outlinewidth\":0,\"ticks\":\"\"},\"colorscale\":[[0.0,\"#0d0887\"],[0.1111111111111111,\"#46039f\"],[0.2222222222222222,\"#7201a8\"],[0.3333333333333333,\"#9c179e\"],[0.4444444444444444,\"#bd3786\"],[0.5555555555555556,\"#d8576b\"],[0.6666666666666666,\"#ed7953\"],[0.7777777777777778,\"#fb9f3a\"],[0.8888888888888888,\"#fdca26\"],[1.0,\"#f0f921\"]]}],\"contourcarpet\":[{\"type\":\"contourcarpet\",\"colorbar\":{\"outlinewidth\":0,\"ticks\":\"\"}}],\"contour\":[{\"type\":\"contour\",\"colorbar\":{\"outlinewidth\":0,\"ticks\":\"\"},\"colorscale\":[[0.0,\"#0d0887\"],[0.1111111111111111,\"#46039f\"],[0.2222222222222222,\"#7201a8\"],[0.3333333333333333,\"#9c179e\"],[0.4444444444444444,\"#bd3786\"],[0.5555555555555556,\"#d8576b\"],[0.6666666666666666,\"#ed7953\"],[0.7777777777777778,\"#fb9f3a\"],[0.8888888888888888,\"#fdca26\"],[1.0,\"#f0f921\"]]}],\"surface\":[{\"type\":\"surface\",\"colorbar\":{\"outlinewidth\":0,\"ticks\":\"\"},\"colorscale\":[[0.0,\"#0d0887\"],[0.1111111111111111,\"#46039f\"],[0.2222222222222222,\"#7201a8\"],[0.3333333333333333,\"#9c179e\"],[0.4444444444444444,\"#bd3786\"],[0.5555555555555556,\"#d8576b\"],[0.6666666666666666,\"#ed7953\"],[0.7777777777777778,\"#fb9f3a\"],[0.8888888888888888,\"#fdca26\"],[1.0,\"#f0f921\"]]}],\"mesh3d\":[{\"type\":\"mesh3d\",\"colorbar\":{\"outlinewidth\":0,\"ticks\":\"\"}}],\"scatter\":[{\"fillpattern\":{\"fillmode\":\"overlay\",\"size\":10,\"solidity\":0.2},\"type\":\"scatter\"}],\"parcoords\":[{\"type\":\"parcoords\",\"line\":{\"colorbar\":{\"outlinewidth\":0,\"ticks\":\"\"}}}],\"scatterpolargl\":[{\"type\":\"scatterpolargl\",\"marker\":{\"colorbar\":{\"outlinewidth\":0,\"ticks\":\"\"}}}],\"bar\":[{\"error_x\":{\"color\":\"#2a3f5f\"},\"error_y\":{\"color\":\"#2a3f5f\"},\"marker\":{\"line\":{\"color\":\"#E5ECF6\",\"width\":0.5},\"pattern\":{\"fillmode\":\"overlay\",\"size\":10,\"solidity\":0.2}},\"type\":\"bar\"}],\"scattergeo\":[{\"type\":\"scattergeo\",\"marker\":{\"colorbar\":{\"outlinewidth\":0,\"ticks\":\"\"}}}],\"scatterpolar\":[{\"type\":\"scatterpolar\",\"marker\":{\"colorbar\":{\"outlinewidth\":0,\"ticks\":\"\"}}}],\"histogram\":[{\"marker\":{\"pattern\":{\"fillmode\":\"overlay\",\"size\":10,\"solidity\":0.2}},\"type\":\"histogram\"}],\"scattergl\":[{\"type\":\"scattergl\",\"marker\":{\"colorbar\":{\"outlinewidth\":0,\"ticks\":\"\"}}}],\"scatter3d\":[{\"type\":\"scatter3d\",\"line\":{\"colorbar\":{\"outlinewidth\":0,\"ticks\":\"\"}},\"marker\":{\"colorbar\":{\"outlinewidth\":0,\"ticks\":\"\"}}}],\"scattermapbox\":[{\"type\":\"scattermapbox\",\"marker\":{\"colorbar\":{\"outlinewidth\":0,\"ticks\":\"\"}}}],\"scatterternary\":[{\"type\":\"scatterternary\",\"marker\":{\"colorbar\":{\"outlinewidth\":0,\"ticks\":\"\"}}}],\"scattercarpet\":[{\"type\":\"scattercarpet\",\"marker\":{\"colorbar\":{\"outlinewidth\":0,\"ticks\":\"\"}}}],\"carpet\":[{\"aaxis\":{\"endlinecolor\":\"#2a3f5f\",\"gridcolor\":\"white\",\"linecolor\":\"white\",\"minorgridcolor\":\"white\",\"startlinecolor\":\"#2a3f5f\"},\"baxis\":{\"endlinecolor\":\"#2a3f5f\",\"gridcolor\":\"white\",\"linecolor\":\"white\",\"minorgridcolor\":\"white\",\"startlinecolor\":\"#2a3f5f\"},\"type\":\"carpet\"}],\"table\":[{\"cells\":{\"fill\":{\"color\":\"#EBF0F8\"},\"line\":{\"color\":\"white\"}},\"header\":{\"fill\":{\"color\":\"#C8D4E3\"},\"line\":{\"color\":\"white\"}},\"type\":\"table\"}],\"barpolar\":[{\"marker\":{\"line\":{\"color\":\"#E5ECF6\",\"width\":0.5},\"pattern\":{\"fillmode\":\"overlay\",\"size\":10,\"solidity\":0.2}},\"type\":\"barpolar\"}],\"pie\":[{\"automargin\":true,\"type\":\"pie\"}]},\"layout\":{\"autotypenumbers\":\"strict\",\"colorway\":[\"#636efa\",\"#EF553B\",\"#00cc96\",\"#ab63fa\",\"#FFA15A\",\"#19d3f3\",\"#FF6692\",\"#B6E880\",\"#FF97FF\",\"#FECB52\"],\"font\":{\"color\":\"#2a3f5f\"},\"hovermode\":\"closest\",\"hoverlabel\":{\"align\":\"left\"},\"paper_bgcolor\":\"white\",\"plot_bgcolor\":\"#E5ECF6\",\"polar\":{\"bgcolor\":\"#E5ECF6\",\"angularaxis\":{\"gridcolor\":\"white\",\"linecolor\":\"white\",\"ticks\":\"\"},\"radialaxis\":{\"gridcolor\":\"white\",\"linecolor\":\"white\",\"ticks\":\"\"}},\"ternary\":{\"bgcolor\":\"#E5ECF6\",\"aaxis\":{\"gridcolor\":\"white\",\"linecolor\":\"white\",\"ticks\":\"\"},\"baxis\":{\"gridcolor\":\"white\",\"linecolor\":\"white\",\"ticks\":\"\"},\"caxis\":{\"gridcolor\":\"white\",\"linecolor\":\"white\",\"ticks\":\"\"}},\"coloraxis\":{\"colorbar\":{\"outlinewidth\":0,\"ticks\":\"\"}},\"colorscale\":{\"sequential\":[[0.0,\"#0d0887\"],[0.1111111111111111,\"#46039f\"],[0.2222222222222222,\"#7201a8\"],[0.3333333333333333,\"#9c179e\"],[0.4444444444444444,\"#bd3786\"],[0.5555555555555556,\"#d8576b\"],[0.6666666666666666,\"#ed7953\"],[0.7777777777777778,\"#fb9f3a\"],[0.8888888888888888,\"#fdca26\"],[1.0,\"#f0f921\"]],\"sequentialminus\":[[0.0,\"#0d0887\"],[0.1111111111111111,\"#46039f\"],[0.2222222222222222,\"#7201a8\"],[0.3333333333333333,\"#9c179e\"],[0.4444444444444444,\"#bd3786\"],[0.5555555555555556,\"#d8576b\"],[0.6666666666666666,\"#ed7953\"],[0.7777777777777778,\"#fb9f3a\"],[0.8888888888888888,\"#fdca26\"],[1.0,\"#f0f921\"]],\"diverging\":[[0,\"#8e0152\"],[0.1,\"#c51b7d\"],[0.2,\"#de77ae\"],[0.3,\"#f1b6da\"],[0.4,\"#fde0ef\"],[0.5,\"#f7f7f7\"],[0.6,\"#e6f5d0\"],[0.7,\"#b8e186\"],[0.8,\"#7fbc41\"],[0.9,\"#4d9221\"],[1,\"#276419\"]]},\"xaxis\":{\"gridcolor\":\"white\",\"linecolor\":\"white\",\"ticks\":\"\",\"title\":{\"standoff\":15},\"zerolinecolor\":\"white\",\"automargin\":true,\"zerolinewidth\":2},\"yaxis\":{\"gridcolor\":\"white\",\"linecolor\":\"white\",\"ticks\":\"\",\"title\":{\"standoff\":15},\"zerolinecolor\":\"white\",\"automargin\":true,\"zerolinewidth\":2},\"scene\":{\"xaxis\":{\"backgroundcolor\":\"#E5ECF6\",\"gridcolor\":\"white\",\"linecolor\":\"white\",\"showbackground\":true,\"ticks\":\"\",\"zerolinecolor\":\"white\",\"gridwidth\":2},\"yaxis\":{\"backgroundcolor\":\"#E5ECF6\",\"gridcolor\":\"white\",\"linecolor\":\"white\",\"showbackground\":true,\"ticks\":\"\",\"zerolinecolor\":\"white\",\"gridwidth\":2},\"zaxis\":{\"backgroundcolor\":\"#E5ECF6\",\"gridcolor\":\"white\",\"linecolor\":\"white\",\"showbackground\":true,\"ticks\":\"\",\"zerolinecolor\":\"white\",\"gridwidth\":2}},\"shapedefaults\":{\"line\":{\"color\":\"#2a3f5f\"}},\"annotationdefaults\":{\"arrowcolor\":\"#2a3f5f\",\"arrowhead\":0,\"arrowwidth\":1},\"geo\":{\"bgcolor\":\"white\",\"landcolor\":\"#E5ECF6\",\"subunitcolor\":\"white\",\"showland\":true,\"showlakes\":true,\"lakecolor\":\"white\"},\"title\":{\"x\":0.05},\"mapbox\":{\"style\":\"light\"}}},\"polar\":{\"domain\":{\"x\":[0.0,1.0],\"y\":[0.0,1.0]},\"angularaxis\":{\"direction\":\"clockwise\",\"rotation\":90},\"radialaxis\":{\"visible\":true,\"range\":[0,5]}},\"legend\":{\"title\":{\"text\":\"Name\"},\"tracegroupgap\":0},\"margin\":{\"t\":60}},                        {\"responsive\": true}                    ).then(function(){\n",
       "                            \n",
       "var gd = document.getElementById('f36485e4-ed09-42e8-9120-dbda0bb221d5');\n",
       "var x = new MutationObserver(function (mutations, observer) {{\n",
       "        var display = window.getComputedStyle(gd).display;\n",
       "        if (!display || display === 'none') {{\n",
       "            console.log([gd, 'removed!']);\n",
       "            Plotly.purge(gd);\n",
       "            observer.disconnect();\n",
       "        }}\n",
       "}});\n",
       "\n",
       "// Listen for the removal of the full notebook cells\n",
       "var notebookContainer = gd.closest('#notebook-container');\n",
       "if (notebookContainer) {{\n",
       "    x.observe(notebookContainer, {childList: true});\n",
       "}}\n",
       "\n",
       "// Listen for the clearing of the current output cell\n",
       "var outputEl = gd.closest('.output');\n",
       "if (outputEl) {{\n",
       "    x.observe(outputEl, {childList: true});\n",
       "}}\n",
       "\n",
       "                        })                };                });            </script>        </div>"
      ]
     },
     "metadata": {},
     "output_type": "display_data"
    }
   ],
   "execution_count": 100
  },
  {
   "metadata": {},
   "cell_type": "code",
   "outputs": [],
   "execution_count": null,
   "source": "",
   "id": "a293874ad6b356aa"
  }
 ],
 "metadata": {
  "kernelspec": {
   "display_name": "Python 3",
   "language": "python",
   "name": "python3"
  },
  "language_info": {
   "codemirror_mode": {
    "name": "ipython",
    "version": 2
   },
   "file_extension": ".py",
   "mimetype": "text/x-python",
   "name": "python",
   "nbconvert_exporter": "python",
   "pygments_lexer": "ipython2",
   "version": "2.7.6"
  }
 },
 "nbformat": 4,
 "nbformat_minor": 5
}
