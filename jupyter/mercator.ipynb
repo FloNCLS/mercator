{
 "cells": [
  {
   "metadata": {
    "ExecuteTime": {
     "end_time": "2024-05-11T13:43:01.835783Z",
     "start_time": "2024-05-11T13:43:01.500686Z"
    }
   },
   "cell_type": "code",
   "source": [
    "import requests\n",
    "import json\n",
    "\n",
    "v_headers = {'accept': 'application/json', 'content-type': 'application/x-www-form-urlencoded',\n",
    "            'cache-control': 'no-cache'}\n",
    "\n",
    "response = requests.post(\"http://127.0.0.1:8000/api/login\",\n",
    "                         headers=v_headers,\n",
    "                         data= {'email':'admin@admin.com', 'password':'password'})\n",
    "token = response.json()['access_token']\n",
    "v_headers['Authorization'] = \"Bearer \" + token"
   ],
   "id": "888ed0cdd294526f",
   "outputs": [],
   "execution_count": 90
  },
  {
   "metadata": {
    "ExecuteTime": {
     "end_time": "2024-05-11T13:43:10.766691Z",
     "start_time": "2024-05-11T13:43:01.874003Z"
    }
   },
   "cell_type": "code",
   "source": [
    "# Vues de l'écosystème\n",
    "entities = requests.get(\"http://127.0.0.1:8000/api/entities\", headers=v_headers).json()\n",
    "relations = requests.get(\"http://127.0.0.1:8000/api/relations\", headers=v_headers).json()\n",
    "\n",
    "# Vue métier du système d'information\n",
    "macro_processuses = requests.get(\"http://127.0.0.1:8000/api/macro-processuses\", headers=v_headers).json()\n",
    "processes = requests.get(\"http://127.0.0.1:8000/api/processes\", headers=v_headers).json()\n",
    "operations = requests.get(\"http://127.0.0.1:8000/api/operations\", headers=v_headers).json()\n",
    "actors = requests.get(\"http://127.0.0.1:8000/api/actors\", headers=v_headers).json()\n",
    "activities = requests.get(\"http://127.0.0.1:8000/api/activities\", headers=v_headers).json()\n",
    "tasks = requests.get(\"http://127.0.0.1:8000/api/tasks\", headers=v_headers).json()\n",
    "information = requests.get(\"http://127.0.0.1:8000/api/information\", headers=v_headers).json()\n",
    "\n",
    "# Vue des applications\n",
    "application_blocks = requests.get(\"http://127.0.0.1:8000/api/application-blocks\", headers=v_headers).json()\n",
    "applications = requests.get(\"http://127.0.0.1:8000/api/applications\", headers=v_headers).json()\n",
    "application_modules = requests.get(\"http://127.0.0.1:8000/api/application-modules\", headers=v_headers).json()\n",
    "application_services = requests.get(\"http://127.0.0.1:8000/api/application-services\", headers=v_headers).json()\n",
    "databases = requests.get(\"http://127.0.0.1:8000/api/databases\", headers=v_headers).json()\n",
    "fluxes = requests.get(\"http://127.0.0.1:8000/api/fluxes\", headers=v_headers).json()\n",
    "\n",
    "# Vue de l'infrastructure logique\n",
    "networks = requests.get(\"http://127.0.0.1:8000/api/networks\", headers=v_headers).json()\n",
    "subnetworks = requests.get(\"http://127.0.0.1:8000/api/subnetworks\", headers=v_headers).json()\n",
    "gateways = requests.get(\"http://127.0.0.1:8000/api/gateways\", headers=v_headers).json()\n",
    "external_connected_entities = requests.get(\"http://127.0.0.1:8000/api/external-connected-entities\", headers=v_headers).json()\n",
    "network_switches = requests.get(\"http://127.0.0.1:8000/api/network-switches\", headers=v_headers).json()\n",
    "routers = requests.get(\"http://127.0.0.1:8000/api/routers\", headers=v_headers).json()\n",
    "security_devices = requests.get(\"http://127.0.0.1:8000/api/security-devices\", headers=v_headers).json()\n",
    "dhcp_servers = requests.get(\"http://127.0.0.1:8000/api/dhcp-servers\", headers=v_headers).json()\n",
    "dnsservers = requests.get(\"http://127.0.0.1:8000/api/dnsservers\", headers=v_headers).json()\n",
    "clusters = requests.get(\"http://127.0.0.1:8000/api/clusters\", headers=v_headers).json()\n",
    "logical_servers = requests.get(\"http://127.0.0.1:8000/api/logical-servers\", headers=v_headers).json()\n",
    "logical_flows = requests.get(\"http://127.0.0.1:8000/api/logical-flows\", headers=v_headers).json()\n",
    "certificates = requests.get(\"http://127.0.0.1:8000/api/certificates\", headers=v_headers).json()\n",
    "vlans = requests.get(\"http://127.0.0.1:8000/api/vlans\", headers=v_headers).json()\n",
    "\n",
    "# Vue de l'infrastructure physique\n",
    "sites = requests.get(\"http://127.0.0.1:8000/api/sites\", headers=v_headers).json()\n",
    "buildings = requests.get(\"http://127.0.0.1:8000/api/buildings\", headers=v_headers).json()\n",
    "bays = requests.get(\"http://127.0.0.1:8000/api/bays\", headers=v_headers).json()\n",
    "physical_servers = requests.get(\"http://127.0.0.1:8000/api/physical-servers\", headers=v_headers).json()\n",
    "workstations = requests.get(\"http://127.0.0.1:8000/api/workstations\", headers=v_headers).json()\n",
    "storage_devices = requests.get(\"http://127.0.0.1:8000/api/storage-devices\", headers=v_headers).json()\n",
    "peripherals = requests.get(\"http://127.0.0.1:8000/api/peripherals\", headers=v_headers).json()\n",
    "phones = requests.get(\"http://127.0.0.1:8000/api/phones\", headers=v_headers).json()\n",
    "physical_switches = requests.get(\"http://127.0.0.1:8000/api/physical-switches\", headers=v_headers).json()\n",
    "physical_routers = requests.get(\"http://127.0.0.1:8000/api/physical-routers\", headers=v_headers).json()\n",
    "wifi_terminals = requests.get(\"http://127.0.0.1:8000/api/wifi-terminals\", headers=v_headers).json()\n",
    "physical_security_devices = requests.get(\"http://127.0.0.1:8000/api/physical-security-devices\", headers=v_headers).json()\n",
    "wans = requests.get(\"http://127.0.0.1:8000/api/wans\", headers=v_headers).json()\n",
    "mans = requests.get(\"http://127.0.0.1:8000/api/mans\", headers=v_headers).json()\n",
    "lans = requests.get(\"http://127.0.0.1:8000/api/lans\", headers=v_headers).json()"
   ],
   "id": "d39830f557692eea",
   "outputs": [],
   "execution_count": 91
  },
  {
   "metadata": {
    "ExecuteTime": {
     "end_time": "2024-05-11T13:49:11.933938Z",
     "start_time": "2024-05-11T13:49:11.928060Z"
    }
   },
   "cell_type": "code",
   "source": [
    "# Liste des variables associées à chaque vue\n",
    "ecosystem_view = [\n",
    "    entities,\n",
    "    relations\n",
    "]\n",
    "information_systems_view = [\n",
    "    #macro_processuses,\n",
    "    processes,\n",
    "    operations,\n",
    "    actors,\n",
    "    activities,\n",
    "    tasks,\n",
    "    information\n",
    "]\n",
    "applications_view = [\n",
    "    application_blocks, \n",
    "    applications, \n",
    "    application_modules, \n",
    "    #application_services, \n",
    "    databases, \n",
    "    fluxes\n",
    "]\n",
    "logical_infrastructure_view = [\n",
    "    networks,\n",
    "    subnetworks,\n",
    "    gateways,\n",
    "    external_connected_entities,\n",
    "    #network_switches, \n",
    "    routers, \n",
    "    #security_devices, \n",
    "    dhcp_servers, \n",
    "    dnsservers, \n",
    "    #clusters, \n",
    "    logical_servers, \n",
    "    #logical_flows, \n",
    "    certificates, \n",
    "    vlans\n",
    "]\n",
    "physical_infrastructure_view = [\n",
    "    sites, buildings,\n",
    "    bays, physical_servers,\n",
    "    workstations, storage_devices, \n",
    "    peripherals, phones, physical_switches, \n",
    "    physical_routers, \n",
    "    #wifi_terminals, \n",
    "    physical_security_devices,\n",
    "    wans,\n",
    "    mans,\n",
    "    lans\n",
    "]\n",
    "\n",
    "# Liste contenant les éléments par vue\n",
    "all_variables = [\n",
    "    entities,\n",
    "    relations,\n",
    "    #macro_processuses,\n",
    "    processes,\n",
    "    operations,\n",
    "    actors,\n",
    "    activities,\n",
    "    tasks,\n",
    "    information,\n",
    "    application_blocks, \n",
    "    applications, \n",
    "    application_modules, \n",
    "    #application_services, \n",
    "    databases, \n",
    "    fluxes,\n",
    "    networks,\n",
    "    subnetworks,\n",
    "    gateways,\n",
    "    external_connected_entities,\n",
    "    #network_switches, \n",
    "    routers, \n",
    "    #security_devices, \n",
    "    dhcp_servers, \n",
    "    dnsservers, \n",
    "    #clusters, \n",
    "    logical_servers, \n",
    "    #logical_flows, \n",
    "    certificates, \n",
    "    vlans,\n",
    "    sites, buildings,\n",
    "    bays, physical_servers,\n",
    "    workstations, storage_devices, \n",
    "    peripherals, phones, physical_switches, \n",
    "    physical_routers, \n",
    "    #wifi_terminals, \n",
    "    physical_security_devices,\n",
    "    wans,\n",
    "    mans,\n",
    "    lans\n",
    "]\n"
   ],
   "id": "b0d226f52bcd3b6e",
   "outputs": [],
   "execution_count": 110
  },
  {
   "metadata": {
    "ExecuteTime": {
     "end_time": "2024-05-11T13:49:12.604734Z",
     "start_time": "2024-05-11T13:49:12.601325Z"
    }
   },
   "cell_type": "code",
   "source": [
    "def remove_keys_from_dicts(element, keys):\n",
    "    for dictionary in element:\n",
    "        if isinstance(dictionary, dict):  # Check if it's a dictionary\n",
    "            for k in keys:\n",
    "                dictionary.pop(k, None)\n",
    "            \n",
    "# Define the keys to remove\n",
    "keys_to_remove = ['updated_at', 'deleted_at', 'created_at']\n",
    "\n",
    "# Remove keys from each variable\n",
    "for i in all_variables:\n",
    "    remove_keys_from_dicts(i, keys_to_remove)"
   ],
   "id": "e329978da508e1cd",
   "outputs": [],
   "execution_count": 111
  },
  {
   "metadata": {
    "ExecuteTime": {
     "end_time": "2024-05-11T13:49:13.031038Z",
     "start_time": "2024-05-11T13:49:13.027011Z"
    }
   },
   "cell_type": "code",
   "source": [
    "def calculate_element_maturity(element):   \n",
    "    element_maturity_level = 0\n",
    "    element_number = len(element)\n",
    "    for i in element:    \n",
    "        max_content_maturity_level = len(i) - 1\n",
    "        maturity_index = 0\n",
    "        for a in i:\n",
    "            id_key = list(i)[0]\n",
    "            if a is not id_key:\n",
    "                if i[a]:\n",
    "                    maturity_index += 1\n",
    "        avg_maturity_index = maturity_index / max_content_maturity_level\n",
    "        element_maturity_level += avg_maturity_index\n",
    "    avg_element_maturity_level = element_maturity_level / element_number * 5\n",
    "    return avg_element_maturity_level"
   ],
   "id": "dec623df3cd5c26f",
   "outputs": [],
   "execution_count": 112
  },
  {
   "metadata": {
    "ExecuteTime": {
     "end_time": "2024-05-11T13:49:13.436046Z",
     "start_time": "2024-05-11T13:49:13.432522Z"
    }
   },
   "cell_type": "code",
   "source": [
    "def calculate_domain_maturity(domain):\n",
    "    domain_element_number = len(domain)\n",
    "    domain_maturity_index = 0\n",
    "    for element in domain:\n",
    "        try:\n",
    "            element_maturity_index = calculate_element_maturity(element)\n",
    "        except ZeroDivisionError:\n",
    "            element_maturity_index = 0\n",
    "        domain_maturity_index += element_maturity_index\n",
    "    avg_domain_maturity_index = round(domain_maturity_index / domain_element_number,2)\n",
    "    return avg_domain_maturity_index"
   ],
   "id": "8dab62872408d95e",
   "outputs": [],
   "execution_count": 113
  },
  {
   "metadata": {
    "ExecuteTime": {
     "end_time": "2024-05-11T13:49:13.893405Z",
     "start_time": "2024-05-11T13:49:13.839069Z"
    }
   },
   "cell_type": "code",
   "source": [
    "import pandas as pd\n",
    "import plotly.express as px\n",
    "\n",
    "df = pd.DataFrame({\n",
    "    'Name':['Current', 'Current', 'Current', 'Current', 'Current', 'Expected', 'Expected', 'Expected', 'Expected', 'Expected'],\n",
    "    'Maturity': [ \n",
    "        calculate_domain_maturity(ecosystem_view), \n",
    "        calculate_domain_maturity(information_systems_view), \n",
    "        calculate_domain_maturity(applications_view), \n",
    "        calculate_domain_maturity(logical_infrastructure_view), \n",
    "        calculate_domain_maturity(physical_infrastructure_view),\n",
    "        4, \n",
    "        4, \n",
    "        4, \n",
    "        4, \n",
    "        4\n",
    "    ],\n",
    "    'Theta':[\"Ecosystem\",\"Information systems\",\"Applications\",\"Logical infrastructure\",\"Physical infrastructure\", \"Ecosystem\",\"Information systems\",\"Applications\",\"Logical infrastructure\",\"Physical infrastructure\"]\n",
    "})\n",
    "fig = px.line_polar(df, r='Maturity', theta='Theta', line_close=True, color='Name')\n",
    "fig.update_layout(\n",
    "  polar=dict(\n",
    "    radialaxis=dict(\n",
    "      visible=True,\n",
    "      range=[0, 5]\n",
    "    )\n",
    "  )\n",
    ")\n",
    "for trace in fig.data:\n",
    "    if trace.name == 'Current':\n",
    "        trace.fill = 'toself'\n",
    "    else:\n",
    "        trace.fill = None\n",
    "\n",
    "fig.show()"
   ],
   "id": "75b7b5b86edb63ae",
   "outputs": [
    {
     "data": {
      "application/vnd.plotly.v1+json": {
       "data": [
        {
         "hovertemplate": "Name=Current<br>Maturity=%{r}<br>Theta=%{theta}<extra></extra>",
         "legendgroup": "Current",
         "line": {
          "color": "#636efa",
          "dash": "solid"
         },
         "marker": {
          "symbol": "circle"
         },
         "mode": "lines",
         "name": "Current",
         "r": [
          3.96,
          4.46,
          3.49,
          1.08,
          2.11,
          3.96
         ],
         "showlegend": true,
         "subplot": "polar",
         "theta": [
          "Ecosystem",
          "Information systems",
          "Applications",
          "Logical infrastructure",
          "Physical infrastructure",
          "Ecosystem"
         ],
         "type": "scatterpolar",
         "fill": "toself"
        },
        {
         "hovertemplate": "Name=Expected<br>Maturity=%{r}<br>Theta=%{theta}<extra></extra>",
         "legendgroup": "Expected",
         "line": {
          "color": "#EF553B",
          "dash": "solid"
         },
         "marker": {
          "symbol": "circle"
         },
         "mode": "lines",
         "name": "Expected",
         "r": [
          4.0,
          4.0,
          4.0,
          4.0,
          4.0,
          4.0
         ],
         "showlegend": true,
         "subplot": "polar",
         "theta": [
          "Ecosystem",
          "Information systems",
          "Applications",
          "Logical infrastructure",
          "Physical infrastructure",
          "Ecosystem"
         ],
         "type": "scatterpolar"
        }
       ],
       "layout": {
        "template": {
         "data": {
          "histogram2dcontour": [
           {
            "type": "histogram2dcontour",
            "colorbar": {
             "outlinewidth": 0,
             "ticks": ""
            },
            "colorscale": [
             [
              0.0,
              "#0d0887"
             ],
             [
              0.1111111111111111,
              "#46039f"
             ],
             [
              0.2222222222222222,
              "#7201a8"
             ],
             [
              0.3333333333333333,
              "#9c179e"
             ],
             [
              0.4444444444444444,
              "#bd3786"
             ],
             [
              0.5555555555555556,
              "#d8576b"
             ],
             [
              0.6666666666666666,
              "#ed7953"
             ],
             [
              0.7777777777777778,
              "#fb9f3a"
             ],
             [
              0.8888888888888888,
              "#fdca26"
             ],
             [
              1.0,
              "#f0f921"
             ]
            ]
           }
          ],
          "choropleth": [
           {
            "type": "choropleth",
            "colorbar": {
             "outlinewidth": 0,
             "ticks": ""
            }
           }
          ],
          "histogram2d": [
           {
            "type": "histogram2d",
            "colorbar": {
             "outlinewidth": 0,
             "ticks": ""
            },
            "colorscale": [
             [
              0.0,
              "#0d0887"
             ],
             [
              0.1111111111111111,
              "#46039f"
             ],
             [
              0.2222222222222222,
              "#7201a8"
             ],
             [
              0.3333333333333333,
              "#9c179e"
             ],
             [
              0.4444444444444444,
              "#bd3786"
             ],
             [
              0.5555555555555556,
              "#d8576b"
             ],
             [
              0.6666666666666666,
              "#ed7953"
             ],
             [
              0.7777777777777778,
              "#fb9f3a"
             ],
             [
              0.8888888888888888,
              "#fdca26"
             ],
             [
              1.0,
              "#f0f921"
             ]
            ]
           }
          ],
          "heatmap": [
           {
            "type": "heatmap",
            "colorbar": {
             "outlinewidth": 0,
             "ticks": ""
            },
            "colorscale": [
             [
              0.0,
              "#0d0887"
             ],
             [
              0.1111111111111111,
              "#46039f"
             ],
             [
              0.2222222222222222,
              "#7201a8"
             ],
             [
              0.3333333333333333,
              "#9c179e"
             ],
             [
              0.4444444444444444,
              "#bd3786"
             ],
             [
              0.5555555555555556,
              "#d8576b"
             ],
             [
              0.6666666666666666,
              "#ed7953"
             ],
             [
              0.7777777777777778,
              "#fb9f3a"
             ],
             [
              0.8888888888888888,
              "#fdca26"
             ],
             [
              1.0,
              "#f0f921"
             ]
            ]
           }
          ],
          "heatmapgl": [
           {
            "type": "heatmapgl",
            "colorbar": {
             "outlinewidth": 0,
             "ticks": ""
            },
            "colorscale": [
             [
              0.0,
              "#0d0887"
             ],
             [
              0.1111111111111111,
              "#46039f"
             ],
             [
              0.2222222222222222,
              "#7201a8"
             ],
             [
              0.3333333333333333,
              "#9c179e"
             ],
             [
              0.4444444444444444,
              "#bd3786"
             ],
             [
              0.5555555555555556,
              "#d8576b"
             ],
             [
              0.6666666666666666,
              "#ed7953"
             ],
             [
              0.7777777777777778,
              "#fb9f3a"
             ],
             [
              0.8888888888888888,
              "#fdca26"
             ],
             [
              1.0,
              "#f0f921"
             ]
            ]
           }
          ],
          "contourcarpet": [
           {
            "type": "contourcarpet",
            "colorbar": {
             "outlinewidth": 0,
             "ticks": ""
            }
           }
          ],
          "contour": [
           {
            "type": "contour",
            "colorbar": {
             "outlinewidth": 0,
             "ticks": ""
            },
            "colorscale": [
             [
              0.0,
              "#0d0887"
             ],
             [
              0.1111111111111111,
              "#46039f"
             ],
             [
              0.2222222222222222,
              "#7201a8"
             ],
             [
              0.3333333333333333,
              "#9c179e"
             ],
             [
              0.4444444444444444,
              "#bd3786"
             ],
             [
              0.5555555555555556,
              "#d8576b"
             ],
             [
              0.6666666666666666,
              "#ed7953"
             ],
             [
              0.7777777777777778,
              "#fb9f3a"
             ],
             [
              0.8888888888888888,
              "#fdca26"
             ],
             [
              1.0,
              "#f0f921"
             ]
            ]
           }
          ],
          "surface": [
           {
            "type": "surface",
            "colorbar": {
             "outlinewidth": 0,
             "ticks": ""
            },
            "colorscale": [
             [
              0.0,
              "#0d0887"
             ],
             [
              0.1111111111111111,
              "#46039f"
             ],
             [
              0.2222222222222222,
              "#7201a8"
             ],
             [
              0.3333333333333333,
              "#9c179e"
             ],
             [
              0.4444444444444444,
              "#bd3786"
             ],
             [
              0.5555555555555556,
              "#d8576b"
             ],
             [
              0.6666666666666666,
              "#ed7953"
             ],
             [
              0.7777777777777778,
              "#fb9f3a"
             ],
             [
              0.8888888888888888,
              "#fdca26"
             ],
             [
              1.0,
              "#f0f921"
             ]
            ]
           }
          ],
          "mesh3d": [
           {
            "type": "mesh3d",
            "colorbar": {
             "outlinewidth": 0,
             "ticks": ""
            }
           }
          ],
          "scatter": [
           {
            "fillpattern": {
             "fillmode": "overlay",
             "size": 10,
             "solidity": 0.2
            },
            "type": "scatter"
           }
          ],
          "parcoords": [
           {
            "type": "parcoords",
            "line": {
             "colorbar": {
              "outlinewidth": 0,
              "ticks": ""
             }
            }
           }
          ],
          "scatterpolargl": [
           {
            "type": "scatterpolargl",
            "marker": {
             "colorbar": {
              "outlinewidth": 0,
              "ticks": ""
             }
            }
           }
          ],
          "bar": [
           {
            "error_x": {
             "color": "#2a3f5f"
            },
            "error_y": {
             "color": "#2a3f5f"
            },
            "marker": {
             "line": {
              "color": "#E5ECF6",
              "width": 0.5
             },
             "pattern": {
              "fillmode": "overlay",
              "size": 10,
              "solidity": 0.2
             }
            },
            "type": "bar"
           }
          ],
          "scattergeo": [
           {
            "type": "scattergeo",
            "marker": {
             "colorbar": {
              "outlinewidth": 0,
              "ticks": ""
             }
            }
           }
          ],
          "scatterpolar": [
           {
            "type": "scatterpolar",
            "marker": {
             "colorbar": {
              "outlinewidth": 0,
              "ticks": ""
             }
            }
           }
          ],
          "histogram": [
           {
            "marker": {
             "pattern": {
              "fillmode": "overlay",
              "size": 10,
              "solidity": 0.2
             }
            },
            "type": "histogram"
           }
          ],
          "scattergl": [
           {
            "type": "scattergl",
            "marker": {
             "colorbar": {
              "outlinewidth": 0,
              "ticks": ""
             }
            }
           }
          ],
          "scatter3d": [
           {
            "type": "scatter3d",
            "line": {
             "colorbar": {
              "outlinewidth": 0,
              "ticks": ""
             }
            },
            "marker": {
             "colorbar": {
              "outlinewidth": 0,
              "ticks": ""
             }
            }
           }
          ],
          "scattermapbox": [
           {
            "type": "scattermapbox",
            "marker": {
             "colorbar": {
              "outlinewidth": 0,
              "ticks": ""
             }
            }
           }
          ],
          "scatterternary": [
           {
            "type": "scatterternary",
            "marker": {
             "colorbar": {
              "outlinewidth": 0,
              "ticks": ""
             }
            }
           }
          ],
          "scattercarpet": [
           {
            "type": "scattercarpet",
            "marker": {
             "colorbar": {
              "outlinewidth": 0,
              "ticks": ""
             }
            }
           }
          ],
          "carpet": [
           {
            "aaxis": {
             "endlinecolor": "#2a3f5f",
             "gridcolor": "white",
             "linecolor": "white",
             "minorgridcolor": "white",
             "startlinecolor": "#2a3f5f"
            },
            "baxis": {
             "endlinecolor": "#2a3f5f",
             "gridcolor": "white",
             "linecolor": "white",
             "minorgridcolor": "white",
             "startlinecolor": "#2a3f5f"
            },
            "type": "carpet"
           }
          ],
          "table": [
           {
            "cells": {
             "fill": {
              "color": "#EBF0F8"
             },
             "line": {
              "color": "white"
             }
            },
            "header": {
             "fill": {
              "color": "#C8D4E3"
             },
             "line": {
              "color": "white"
             }
            },
            "type": "table"
           }
          ],
          "barpolar": [
           {
            "marker": {
             "line": {
              "color": "#E5ECF6",
              "width": 0.5
             },
             "pattern": {
              "fillmode": "overlay",
              "size": 10,
              "solidity": 0.2
             }
            },
            "type": "barpolar"
           }
          ],
          "pie": [
           {
            "automargin": true,
            "type": "pie"
           }
          ]
         },
         "layout": {
          "autotypenumbers": "strict",
          "colorway": [
           "#636efa",
           "#EF553B",
           "#00cc96",
           "#ab63fa",
           "#FFA15A",
           "#19d3f3",
           "#FF6692",
           "#B6E880",
           "#FF97FF",
           "#FECB52"
          ],
          "font": {
           "color": "#2a3f5f"
          },
          "hovermode": "closest",
          "hoverlabel": {
           "align": "left"
          },
          "paper_bgcolor": "white",
          "plot_bgcolor": "#E5ECF6",
          "polar": {
           "bgcolor": "#E5ECF6",
           "angularaxis": {
            "gridcolor": "white",
            "linecolor": "white",
            "ticks": ""
           },
           "radialaxis": {
            "gridcolor": "white",
            "linecolor": "white",
            "ticks": ""
           }
          },
          "ternary": {
           "bgcolor": "#E5ECF6",
           "aaxis": {
            "gridcolor": "white",
            "linecolor": "white",
            "ticks": ""
           },
           "baxis": {
            "gridcolor": "white",
            "linecolor": "white",
            "ticks": ""
           },
           "caxis": {
            "gridcolor": "white",
            "linecolor": "white",
            "ticks": ""
           }
          },
          "coloraxis": {
           "colorbar": {
            "outlinewidth": 0,
            "ticks": ""
           }
          },
          "colorscale": {
           "sequential": [
            [
             0.0,
             "#0d0887"
            ],
            [
             0.1111111111111111,
             "#46039f"
            ],
            [
             0.2222222222222222,
             "#7201a8"
            ],
            [
             0.3333333333333333,
             "#9c179e"
            ],
            [
             0.4444444444444444,
             "#bd3786"
            ],
            [
             0.5555555555555556,
             "#d8576b"
            ],
            [
             0.6666666666666666,
             "#ed7953"
            ],
            [
             0.7777777777777778,
             "#fb9f3a"
            ],
            [
             0.8888888888888888,
             "#fdca26"
            ],
            [
             1.0,
             "#f0f921"
            ]
           ],
           "sequentialminus": [
            [
             0.0,
             "#0d0887"
            ],
            [
             0.1111111111111111,
             "#46039f"
            ],
            [
             0.2222222222222222,
             "#7201a8"
            ],
            [
             0.3333333333333333,
             "#9c179e"
            ],
            [
             0.4444444444444444,
             "#bd3786"
            ],
            [
             0.5555555555555556,
             "#d8576b"
            ],
            [
             0.6666666666666666,
             "#ed7953"
            ],
            [
             0.7777777777777778,
             "#fb9f3a"
            ],
            [
             0.8888888888888888,
             "#fdca26"
            ],
            [
             1.0,
             "#f0f921"
            ]
           ],
           "diverging": [
            [
             0,
             "#8e0152"
            ],
            [
             0.1,
             "#c51b7d"
            ],
            [
             0.2,
             "#de77ae"
            ],
            [
             0.3,
             "#f1b6da"
            ],
            [
             0.4,
             "#fde0ef"
            ],
            [
             0.5,
             "#f7f7f7"
            ],
            [
             0.6,
             "#e6f5d0"
            ],
            [
             0.7,
             "#b8e186"
            ],
            [
             0.8,
             "#7fbc41"
            ],
            [
             0.9,
             "#4d9221"
            ],
            [
             1,
             "#276419"
            ]
           ]
          },
          "xaxis": {
           "gridcolor": "white",
           "linecolor": "white",
           "ticks": "",
           "title": {
            "standoff": 15
           },
           "zerolinecolor": "white",
           "automargin": true,
           "zerolinewidth": 2
          },
          "yaxis": {
           "gridcolor": "white",
           "linecolor": "white",
           "ticks": "",
           "title": {
            "standoff": 15
           },
           "zerolinecolor": "white",
           "automargin": true,
           "zerolinewidth": 2
          },
          "scene": {
           "xaxis": {
            "backgroundcolor": "#E5ECF6",
            "gridcolor": "white",
            "linecolor": "white",
            "showbackground": true,
            "ticks": "",
            "zerolinecolor": "white",
            "gridwidth": 2
           },
           "yaxis": {
            "backgroundcolor": "#E5ECF6",
            "gridcolor": "white",
            "linecolor": "white",
            "showbackground": true,
            "ticks": "",
            "zerolinecolor": "white",
            "gridwidth": 2
           },
           "zaxis": {
            "backgroundcolor": "#E5ECF6",
            "gridcolor": "white",
            "linecolor": "white",
            "showbackground": true,
            "ticks": "",
            "zerolinecolor": "white",
            "gridwidth": 2
           }
          },
          "shapedefaults": {
           "line": {
            "color": "#2a3f5f"
           }
          },
          "annotationdefaults": {
           "arrowcolor": "#2a3f5f",
           "arrowhead": 0,
           "arrowwidth": 1
          },
          "geo": {
           "bgcolor": "white",
           "landcolor": "#E5ECF6",
           "subunitcolor": "white",
           "showland": true,
           "showlakes": true,
           "lakecolor": "white"
          },
          "title": {
           "x": 0.05
          },
          "mapbox": {
           "style": "light"
          }
         }
        },
        "polar": {
         "domain": {
          "x": [
           0.0,
           1.0
          ],
          "y": [
           0.0,
           1.0
          ]
         },
         "angularaxis": {
          "direction": "clockwise",
          "rotation": 90
         },
         "radialaxis": {
          "visible": true,
          "range": [
           0,
           5
          ]
         }
        },
        "legend": {
         "title": {
          "text": "Name"
         },
         "tracegroupgap": 0
        },
        "margin": {
         "t": 60
        }
       },
       "config": {
        "plotlyServerURL": "https://plot.ly"
       }
      },
      "text/html": [
       "<div>                            <div id=\"9aafdec3-ce29-40e4-9521-308257582756\" class=\"plotly-graph-div\" style=\"height:525px; width:100%;\"></div>            <script type=\"text/javascript\">                require([\"plotly\"], function(Plotly) {                    window.PLOTLYENV=window.PLOTLYENV || {};                                    if (document.getElementById(\"9aafdec3-ce29-40e4-9521-308257582756\")) {                    Plotly.newPlot(                        \"9aafdec3-ce29-40e4-9521-308257582756\",                        [{\"hovertemplate\":\"Name=Current\\u003cbr\\u003eMaturity=%{r}\\u003cbr\\u003eTheta=%{theta}\\u003cextra\\u003e\\u003c\\u002fextra\\u003e\",\"legendgroup\":\"Current\",\"line\":{\"color\":\"#636efa\",\"dash\":\"solid\"},\"marker\":{\"symbol\":\"circle\"},\"mode\":\"lines\",\"name\":\"Current\",\"r\":[3.96,4.46,3.49,1.08,2.11,3.96],\"showlegend\":true,\"subplot\":\"polar\",\"theta\":[\"Ecosystem\",\"Information systems\",\"Applications\",\"Logical infrastructure\",\"Physical infrastructure\",\"Ecosystem\"],\"type\":\"scatterpolar\",\"fill\":\"toself\"},{\"hovertemplate\":\"Name=Expected\\u003cbr\\u003eMaturity=%{r}\\u003cbr\\u003eTheta=%{theta}\\u003cextra\\u003e\\u003c\\u002fextra\\u003e\",\"legendgroup\":\"Expected\",\"line\":{\"color\":\"#EF553B\",\"dash\":\"solid\"},\"marker\":{\"symbol\":\"circle\"},\"mode\":\"lines\",\"name\":\"Expected\",\"r\":[4.0,4.0,4.0,4.0,4.0,4.0],\"showlegend\":true,\"subplot\":\"polar\",\"theta\":[\"Ecosystem\",\"Information systems\",\"Applications\",\"Logical infrastructure\",\"Physical infrastructure\",\"Ecosystem\"],\"type\":\"scatterpolar\"}],                        {\"template\":{\"data\":{\"histogram2dcontour\":[{\"type\":\"histogram2dcontour\",\"colorbar\":{\"outlinewidth\":0,\"ticks\":\"\"},\"colorscale\":[[0.0,\"#0d0887\"],[0.1111111111111111,\"#46039f\"],[0.2222222222222222,\"#7201a8\"],[0.3333333333333333,\"#9c179e\"],[0.4444444444444444,\"#bd3786\"],[0.5555555555555556,\"#d8576b\"],[0.6666666666666666,\"#ed7953\"],[0.7777777777777778,\"#fb9f3a\"],[0.8888888888888888,\"#fdca26\"],[1.0,\"#f0f921\"]]}],\"choropleth\":[{\"type\":\"choropleth\",\"colorbar\":{\"outlinewidth\":0,\"ticks\":\"\"}}],\"histogram2d\":[{\"type\":\"histogram2d\",\"colorbar\":{\"outlinewidth\":0,\"ticks\":\"\"},\"colorscale\":[[0.0,\"#0d0887\"],[0.1111111111111111,\"#46039f\"],[0.2222222222222222,\"#7201a8\"],[0.3333333333333333,\"#9c179e\"],[0.4444444444444444,\"#bd3786\"],[0.5555555555555556,\"#d8576b\"],[0.6666666666666666,\"#ed7953\"],[0.7777777777777778,\"#fb9f3a\"],[0.8888888888888888,\"#fdca26\"],[1.0,\"#f0f921\"]]}],\"heatmap\":[{\"type\":\"heatmap\",\"colorbar\":{\"outlinewidth\":0,\"ticks\":\"\"},\"colorscale\":[[0.0,\"#0d0887\"],[0.1111111111111111,\"#46039f\"],[0.2222222222222222,\"#7201a8\"],[0.3333333333333333,\"#9c179e\"],[0.4444444444444444,\"#bd3786\"],[0.5555555555555556,\"#d8576b\"],[0.6666666666666666,\"#ed7953\"],[0.7777777777777778,\"#fb9f3a\"],[0.8888888888888888,\"#fdca26\"],[1.0,\"#f0f921\"]]}],\"heatmapgl\":[{\"type\":\"heatmapgl\",\"colorbar\":{\"outlinewidth\":0,\"ticks\":\"\"},\"colorscale\":[[0.0,\"#0d0887\"],[0.1111111111111111,\"#46039f\"],[0.2222222222222222,\"#7201a8\"],[0.3333333333333333,\"#9c179e\"],[0.4444444444444444,\"#bd3786\"],[0.5555555555555556,\"#d8576b\"],[0.6666666666666666,\"#ed7953\"],[0.7777777777777778,\"#fb9f3a\"],[0.8888888888888888,\"#fdca26\"],[1.0,\"#f0f921\"]]}],\"contourcarpet\":[{\"type\":\"contourcarpet\",\"colorbar\":{\"outlinewidth\":0,\"ticks\":\"\"}}],\"contour\":[{\"type\":\"contour\",\"colorbar\":{\"outlinewidth\":0,\"ticks\":\"\"},\"colorscale\":[[0.0,\"#0d0887\"],[0.1111111111111111,\"#46039f\"],[0.2222222222222222,\"#7201a8\"],[0.3333333333333333,\"#9c179e\"],[0.4444444444444444,\"#bd3786\"],[0.5555555555555556,\"#d8576b\"],[0.6666666666666666,\"#ed7953\"],[0.7777777777777778,\"#fb9f3a\"],[0.8888888888888888,\"#fdca26\"],[1.0,\"#f0f921\"]]}],\"surface\":[{\"type\":\"surface\",\"colorbar\":{\"outlinewidth\":0,\"ticks\":\"\"},\"colorscale\":[[0.0,\"#0d0887\"],[0.1111111111111111,\"#46039f\"],[0.2222222222222222,\"#7201a8\"],[0.3333333333333333,\"#9c179e\"],[0.4444444444444444,\"#bd3786\"],[0.5555555555555556,\"#d8576b\"],[0.6666666666666666,\"#ed7953\"],[0.7777777777777778,\"#fb9f3a\"],[0.8888888888888888,\"#fdca26\"],[1.0,\"#f0f921\"]]}],\"mesh3d\":[{\"type\":\"mesh3d\",\"colorbar\":{\"outlinewidth\":0,\"ticks\":\"\"}}],\"scatter\":[{\"fillpattern\":{\"fillmode\":\"overlay\",\"size\":10,\"solidity\":0.2},\"type\":\"scatter\"}],\"parcoords\":[{\"type\":\"parcoords\",\"line\":{\"colorbar\":{\"outlinewidth\":0,\"ticks\":\"\"}}}],\"scatterpolargl\":[{\"type\":\"scatterpolargl\",\"marker\":{\"colorbar\":{\"outlinewidth\":0,\"ticks\":\"\"}}}],\"bar\":[{\"error_x\":{\"color\":\"#2a3f5f\"},\"error_y\":{\"color\":\"#2a3f5f\"},\"marker\":{\"line\":{\"color\":\"#E5ECF6\",\"width\":0.5},\"pattern\":{\"fillmode\":\"overlay\",\"size\":10,\"solidity\":0.2}},\"type\":\"bar\"}],\"scattergeo\":[{\"type\":\"scattergeo\",\"marker\":{\"colorbar\":{\"outlinewidth\":0,\"ticks\":\"\"}}}],\"scatterpolar\":[{\"type\":\"scatterpolar\",\"marker\":{\"colorbar\":{\"outlinewidth\":0,\"ticks\":\"\"}}}],\"histogram\":[{\"marker\":{\"pattern\":{\"fillmode\":\"overlay\",\"size\":10,\"solidity\":0.2}},\"type\":\"histogram\"}],\"scattergl\":[{\"type\":\"scattergl\",\"marker\":{\"colorbar\":{\"outlinewidth\":0,\"ticks\":\"\"}}}],\"scatter3d\":[{\"type\":\"scatter3d\",\"line\":{\"colorbar\":{\"outlinewidth\":0,\"ticks\":\"\"}},\"marker\":{\"colorbar\":{\"outlinewidth\":0,\"ticks\":\"\"}}}],\"scattermapbox\":[{\"type\":\"scattermapbox\",\"marker\":{\"colorbar\":{\"outlinewidth\":0,\"ticks\":\"\"}}}],\"scatterternary\":[{\"type\":\"scatterternary\",\"marker\":{\"colorbar\":{\"outlinewidth\":0,\"ticks\":\"\"}}}],\"scattercarpet\":[{\"type\":\"scattercarpet\",\"marker\":{\"colorbar\":{\"outlinewidth\":0,\"ticks\":\"\"}}}],\"carpet\":[{\"aaxis\":{\"endlinecolor\":\"#2a3f5f\",\"gridcolor\":\"white\",\"linecolor\":\"white\",\"minorgridcolor\":\"white\",\"startlinecolor\":\"#2a3f5f\"},\"baxis\":{\"endlinecolor\":\"#2a3f5f\",\"gridcolor\":\"white\",\"linecolor\":\"white\",\"minorgridcolor\":\"white\",\"startlinecolor\":\"#2a3f5f\"},\"type\":\"carpet\"}],\"table\":[{\"cells\":{\"fill\":{\"color\":\"#EBF0F8\"},\"line\":{\"color\":\"white\"}},\"header\":{\"fill\":{\"color\":\"#C8D4E3\"},\"line\":{\"color\":\"white\"}},\"type\":\"table\"}],\"barpolar\":[{\"marker\":{\"line\":{\"color\":\"#E5ECF6\",\"width\":0.5},\"pattern\":{\"fillmode\":\"overlay\",\"size\":10,\"solidity\":0.2}},\"type\":\"barpolar\"}],\"pie\":[{\"automargin\":true,\"type\":\"pie\"}]},\"layout\":{\"autotypenumbers\":\"strict\",\"colorway\":[\"#636efa\",\"#EF553B\",\"#00cc96\",\"#ab63fa\",\"#FFA15A\",\"#19d3f3\",\"#FF6692\",\"#B6E880\",\"#FF97FF\",\"#FECB52\"],\"font\":{\"color\":\"#2a3f5f\"},\"hovermode\":\"closest\",\"hoverlabel\":{\"align\":\"left\"},\"paper_bgcolor\":\"white\",\"plot_bgcolor\":\"#E5ECF6\",\"polar\":{\"bgcolor\":\"#E5ECF6\",\"angularaxis\":{\"gridcolor\":\"white\",\"linecolor\":\"white\",\"ticks\":\"\"},\"radialaxis\":{\"gridcolor\":\"white\",\"linecolor\":\"white\",\"ticks\":\"\"}},\"ternary\":{\"bgcolor\":\"#E5ECF6\",\"aaxis\":{\"gridcolor\":\"white\",\"linecolor\":\"white\",\"ticks\":\"\"},\"baxis\":{\"gridcolor\":\"white\",\"linecolor\":\"white\",\"ticks\":\"\"},\"caxis\":{\"gridcolor\":\"white\",\"linecolor\":\"white\",\"ticks\":\"\"}},\"coloraxis\":{\"colorbar\":{\"outlinewidth\":0,\"ticks\":\"\"}},\"colorscale\":{\"sequential\":[[0.0,\"#0d0887\"],[0.1111111111111111,\"#46039f\"],[0.2222222222222222,\"#7201a8\"],[0.3333333333333333,\"#9c179e\"],[0.4444444444444444,\"#bd3786\"],[0.5555555555555556,\"#d8576b\"],[0.6666666666666666,\"#ed7953\"],[0.7777777777777778,\"#fb9f3a\"],[0.8888888888888888,\"#fdca26\"],[1.0,\"#f0f921\"]],\"sequentialminus\":[[0.0,\"#0d0887\"],[0.1111111111111111,\"#46039f\"],[0.2222222222222222,\"#7201a8\"],[0.3333333333333333,\"#9c179e\"],[0.4444444444444444,\"#bd3786\"],[0.5555555555555556,\"#d8576b\"],[0.6666666666666666,\"#ed7953\"],[0.7777777777777778,\"#fb9f3a\"],[0.8888888888888888,\"#fdca26\"],[1.0,\"#f0f921\"]],\"diverging\":[[0,\"#8e0152\"],[0.1,\"#c51b7d\"],[0.2,\"#de77ae\"],[0.3,\"#f1b6da\"],[0.4,\"#fde0ef\"],[0.5,\"#f7f7f7\"],[0.6,\"#e6f5d0\"],[0.7,\"#b8e186\"],[0.8,\"#7fbc41\"],[0.9,\"#4d9221\"],[1,\"#276419\"]]},\"xaxis\":{\"gridcolor\":\"white\",\"linecolor\":\"white\",\"ticks\":\"\",\"title\":{\"standoff\":15},\"zerolinecolor\":\"white\",\"automargin\":true,\"zerolinewidth\":2},\"yaxis\":{\"gridcolor\":\"white\",\"linecolor\":\"white\",\"ticks\":\"\",\"title\":{\"standoff\":15},\"zerolinecolor\":\"white\",\"automargin\":true,\"zerolinewidth\":2},\"scene\":{\"xaxis\":{\"backgroundcolor\":\"#E5ECF6\",\"gridcolor\":\"white\",\"linecolor\":\"white\",\"showbackground\":true,\"ticks\":\"\",\"zerolinecolor\":\"white\",\"gridwidth\":2},\"yaxis\":{\"backgroundcolor\":\"#E5ECF6\",\"gridcolor\":\"white\",\"linecolor\":\"white\",\"showbackground\":true,\"ticks\":\"\",\"zerolinecolor\":\"white\",\"gridwidth\":2},\"zaxis\":{\"backgroundcolor\":\"#E5ECF6\",\"gridcolor\":\"white\",\"linecolor\":\"white\",\"showbackground\":true,\"ticks\":\"\",\"zerolinecolor\":\"white\",\"gridwidth\":2}},\"shapedefaults\":{\"line\":{\"color\":\"#2a3f5f\"}},\"annotationdefaults\":{\"arrowcolor\":\"#2a3f5f\",\"arrowhead\":0,\"arrowwidth\":1},\"geo\":{\"bgcolor\":\"white\",\"landcolor\":\"#E5ECF6\",\"subunitcolor\":\"white\",\"showland\":true,\"showlakes\":true,\"lakecolor\":\"white\"},\"title\":{\"x\":0.05},\"mapbox\":{\"style\":\"light\"}}},\"polar\":{\"domain\":{\"x\":[0.0,1.0],\"y\":[0.0,1.0]},\"angularaxis\":{\"direction\":\"clockwise\",\"rotation\":90},\"radialaxis\":{\"visible\":true,\"range\":[0,5]}},\"legend\":{\"title\":{\"text\":\"Name\"},\"tracegroupgap\":0},\"margin\":{\"t\":60}},                        {\"responsive\": true}                    ).then(function(){\n",
       "                            \n",
       "var gd = document.getElementById('9aafdec3-ce29-40e4-9521-308257582756');\n",
       "var x = new MutationObserver(function (mutations, observer) {{\n",
       "        var display = window.getComputedStyle(gd).display;\n",
       "        if (!display || display === 'none') {{\n",
       "            console.log([gd, 'removed!']);\n",
       "            Plotly.purge(gd);\n",
       "            observer.disconnect();\n",
       "        }}\n",
       "}});\n",
       "\n",
       "// Listen for the removal of the full notebook cells\n",
       "var notebookContainer = gd.closest('#notebook-container');\n",
       "if (notebookContainer) {{\n",
       "    x.observe(notebookContainer, {childList: true});\n",
       "}}\n",
       "\n",
       "// Listen for the clearing of the current output cell\n",
       "var outputEl = gd.closest('.output');\n",
       "if (outputEl) {{\n",
       "    x.observe(outputEl, {childList: true});\n",
       "}}\n",
       "\n",
       "                        })                };                });            </script>        </div>"
      ]
     },
     "metadata": {},
     "output_type": "display_data"
    }
   ],
   "execution_count": 114
  }
 ],
 "metadata": {
  "kernelspec": {
   "display_name": "Python 3",
   "language": "python",
   "name": "python3"
  },
  "language_info": {
   "codemirror_mode": {
    "name": "ipython",
    "version": 2
   },
   "file_extension": ".py",
   "mimetype": "text/x-python",
   "name": "python",
   "nbconvert_exporter": "python",
   "pygments_lexer": "ipython2",
   "version": "2.7.6"
  }
 },
 "nbformat": 4,
 "nbformat_minor": 5
}
